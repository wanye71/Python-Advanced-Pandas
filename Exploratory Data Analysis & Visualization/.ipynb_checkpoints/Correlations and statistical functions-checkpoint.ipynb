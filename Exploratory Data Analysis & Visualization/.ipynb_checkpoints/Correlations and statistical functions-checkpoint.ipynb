{
 "cells": [
  {
   "cell_type": "markdown",
   "id": "f343701b-3289-4c71-9ce9-9a5d9aa3a436",
   "metadata": {},
   "source": [
    "<center><h1>Pandas Statistical Functions</h1></center>"
   ]
  },
  {
   "cell_type": "code",
   "execution_count": 6,
   "id": "67c8b91f-4cc0-4199-bd60-7c94f5f52696",
   "metadata": {
    "collapsed": true,
    "jupyter": {
     "outputs_hidden": true
    }
   },
   "outputs": [],
   "source": [
    "# Time to dive into the world of pandas and numpy as we prepare for some inline plotting magic!\n",
    "# With pandas by our side, and numpy powering our calculations, we're ready to visualize our data inline.\n",
    "\n",
    "# Get ready to plot like a pro as we unleash the power of inline plotting:\n",
    "# - We're importing pandas as 'pd' and numpy as 'np' to harness their formidable data manipulation and numerical computing capabilities.\n",
    "# - By including '%matplotlib inline', we're activating inline plotting in Jupyter Notebook, allowing us to see our plots right below our code cells.\n",
    "\n",
    "# Hold onto your fishing rods as we cast our line into the data stream and explore the underwater world of inline plotting!\n",
    "import pandas as pd"
   ]
  },
  {
   "cell_type": "code",
   "execution_count": 7,
   "id": "cfbf646b-0624-475a-9b27-dc3a8ae74791",
   "metadata": {
    "collapsed": true,
    "jupyter": {
     "outputs_hidden": true
    }
   },
   "outputs": [
    {
     "data": {
      "text/html": [
       "<div>\n",
       "<style scoped>\n",
       "    .dataframe tbody tr th:only-of-type {\n",
       "        vertical-align: middle;\n",
       "    }\n",
       "\n",
       "    .dataframe tbody tr th {\n",
       "        vertical-align: top;\n",
       "    }\n",
       "\n",
       "    .dataframe thead th {\n",
       "        text-align: right;\n",
       "    }\n",
       "</style>\n",
       "<table border=\"1\" class=\"dataframe\">\n",
       "  <thead>\n",
       "    <tr style=\"text-align: right;\">\n",
       "      <th></th>\n",
       "      <th>sepal_length</th>\n",
       "      <th>sepal_width</th>\n",
       "      <th>petal_length</th>\n",
       "      <th>petal_width</th>\n",
       "      <th>species</th>\n",
       "    </tr>\n",
       "  </thead>\n",
       "  <tbody>\n",
       "    <tr>\n",
       "      <th>0</th>\n",
       "      <td>5.1</td>\n",
       "      <td>3.5</td>\n",
       "      <td>1.4</td>\n",
       "      <td>0.2</td>\n",
       "      <td>setosa</td>\n",
       "    </tr>\n",
       "    <tr>\n",
       "      <th>1</th>\n",
       "      <td>4.9</td>\n",
       "      <td>3.0</td>\n",
       "      <td>1.4</td>\n",
       "      <td>0.2</td>\n",
       "      <td>setosa</td>\n",
       "    </tr>\n",
       "    <tr>\n",
       "      <th>2</th>\n",
       "      <td>4.7</td>\n",
       "      <td>3.2</td>\n",
       "      <td>1.3</td>\n",
       "      <td>0.2</td>\n",
       "      <td>setosa</td>\n",
       "    </tr>\n",
       "  </tbody>\n",
       "</table>\n",
       "</div>"
      ],
      "text/plain": [
       "   sepal_length  sepal_width  petal_length  petal_width species\n",
       "0           5.1          3.5           1.4          0.2  setosa\n",
       "1           4.9          3.0           1.4          0.2  setosa\n",
       "2           4.7          3.2           1.3          0.2  setosa"
      ]
     },
     "execution_count": 7,
     "metadata": {},
     "output_type": "execute_result"
    }
   ],
   "source": [
    "# Alright, time to dive into some data! Let's load up our trusty iris dataset into a DataFrame called 'iris'.\n",
    "iris = pd.read_csv('../iris.csv')\n",
    "iris.head(3)"
   ]
  },
  {
   "cell_type": "markdown",
   "id": "916bed2e-b931-4f35-9198-511491ceb227",
   "metadata": {},
   "source": [
    "## Measures of Central Tendency"
   ]
  },
  {
   "cell_type": "code",
   "execution_count": 19,
   "id": "71f585e9-2189-4019-941e-8af98039eb51",
   "metadata": {
    "collapsed": true,
    "jupyter": {
     "outputs_hidden": true
    }
   },
   "outputs": [
    {
     "data": {
      "text/plain": [
       "sepal_length    5.843333\n",
       "sepal_width     3.057333\n",
       "petal_length    3.758000\n",
       "petal_width     1.199333\n",
       "dtype: float64"
      ]
     },
     "execution_count": 19,
     "metadata": {},
     "output_type": "execute_result"
    }
   ],
   "source": [
    "# It's time for some mean calculations with pandas! We're diving into the numerical columns of our Iris dataset to find their mean.\n",
    "# The mean, also known as the average, gives us a sense of the central tendency of our data.\n",
    "# By setting the parameter 'numeric_only' to True, we ensure that only numeric columns are included in the calculation.\n",
    "iris.mean(numeric_only=True)"
   ]
  },
  {
   "cell_type": "code",
   "execution_count": 18,
   "id": "2650f9d9-d9e0-400d-81f2-36ada80c99f7",
   "metadata": {
    "collapsed": true,
    "jupyter": {
     "outputs_hidden": true
    }
   },
   "outputs": [
    {
     "data": {
      "text/plain": [
       "sepal_length    5.80\n",
       "sepal_width     3.00\n",
       "petal_length    4.35\n",
       "petal_width     1.30\n",
       "dtype: float64"
      ]
     },
     "execution_count": 18,
     "metadata": {},
     "output_type": "execute_result"
    }
   ],
   "source": [
    "# Let's call upon the magical powers of pandas to calculate the median of our Iris dataset!\n",
    "# The median is like the middleman of our data, dividing it into two equal parts.\n",
    "# We're specifically interested in numeric columns, so we'll set the parameter 'numeric_only' to True.\n",
    "iris.median(numeric_only=True)"
   ]
  },
  {
   "cell_type": "code",
   "execution_count": 23,
   "id": "e9131715-af35-4923-ba9b-7df161b7f7c8",
   "metadata": {
    "collapsed": true,
    "jupyter": {
     "outputs_hidden": true
    }
   },
   "outputs": [
    {
     "data": {
      "text/html": [
       "<div>\n",
       "<style scoped>\n",
       "    .dataframe tbody tr th:only-of-type {\n",
       "        vertical-align: middle;\n",
       "    }\n",
       "\n",
       "    .dataframe tbody tr th {\n",
       "        vertical-align: top;\n",
       "    }\n",
       "\n",
       "    .dataframe thead th {\n",
       "        text-align: right;\n",
       "    }\n",
       "</style>\n",
       "<table border=\"1\" class=\"dataframe\">\n",
       "  <thead>\n",
       "    <tr style=\"text-align: right;\">\n",
       "      <th></th>\n",
       "      <th>sepal_length</th>\n",
       "      <th>sepal_width</th>\n",
       "      <th>petal_length</th>\n",
       "      <th>petal_width</th>\n",
       "      <th>species</th>\n",
       "    </tr>\n",
       "  </thead>\n",
       "  <tbody>\n",
       "    <tr>\n",
       "      <th>0</th>\n",
       "      <td>5.0</td>\n",
       "      <td>3.0</td>\n",
       "      <td>1.4</td>\n",
       "      <td>0.2</td>\n",
       "      <td>setosa</td>\n",
       "    </tr>\n",
       "    <tr>\n",
       "      <th>1</th>\n",
       "      <td>NaN</td>\n",
       "      <td>NaN</td>\n",
       "      <td>1.5</td>\n",
       "      <td>NaN</td>\n",
       "      <td>versicolor</td>\n",
       "    </tr>\n",
       "    <tr>\n",
       "      <th>2</th>\n",
       "      <td>NaN</td>\n",
       "      <td>NaN</td>\n",
       "      <td>NaN</td>\n",
       "      <td>NaN</td>\n",
       "      <td>virginica</td>\n",
       "    </tr>\n",
       "  </tbody>\n",
       "</table>\n",
       "</div>"
      ],
      "text/plain": [
       "   sepal_length  sepal_width  petal_length  petal_width     species\n",
       "0           5.0          3.0           1.4          0.2      setosa\n",
       "1           NaN          NaN           1.5          NaN  versicolor\n",
       "2           NaN          NaN           NaN          NaN   virginica"
      ]
     },
     "execution_count": 23,
     "metadata": {},
     "output_type": "execute_result"
    }
   ],
   "source": [
    "# Let's find the mode of our Iris dataset! The mode represents the most frequently occurring value(s) in each column.\n",
    "# It's like finding the most popular flower types or the most common sepal lengths and widths.\n",
    "# This function returns a DataFrame with the mode(s) for each column.\n",
    "iris.mode()"
   ]
  },
  {
   "cell_type": "markdown",
   "id": "efd01b86-a6c6-4170-af8c-5495ccae3162",
   "metadata": {},
   "source": [
    "## Variance Measures"
   ]
  },
  {
   "cell_type": "code",
   "execution_count": 26,
   "id": "2f2c5195-8afa-4ce1-8dae-4adcf94d7b29",
   "metadata": {
    "collapsed": true,
    "jupyter": {
     "outputs_hidden": true
    }
   },
   "outputs": [
    {
     "data": {
      "text/plain": [
       "sepal_length    0.828066\n",
       "sepal_width     0.435866\n",
       "petal_length    1.765298\n",
       "petal_width     0.762238\n",
       "dtype: float64"
      ]
     },
     "execution_count": 26,
     "metadata": {},
     "output_type": "execute_result"
    }
   ],
   "source": [
    "# Time to measure the spread of our Iris dataset with the standard deviation!\n",
    "# The standard deviation gives us a sense of how much the values in each column deviate from the mean.\n",
    "# It's like gauging the variability or dispersion of the data.\n",
    "# This function computes the standard deviation of the numeric columns in the DataFrame.\n",
    "iris.std(numeric_only=True)"
   ]
  },
  {
   "cell_type": "code",
   "execution_count": 29,
   "id": "a96735fe-e5f0-4fa0-8586-6dbed8012234",
   "metadata": {
    "collapsed": true,
    "jupyter": {
     "outputs_hidden": true
    }
   },
   "outputs": [
    {
     "data": {
      "image/png": "[encoded data removed]",
      "text/plain": [
       "<Figure size 640x480 with 1 Axes>"
      ]
     },
     "metadata": {},
     "output_type": "display_data"
    }
   ],
   "source": [
    "# Get ready to visualize the distribution of our Iris dataset with a box plot!\n",
    "# A box plot provides a visual summary of the distribution of the data, including its central tendency, spread, and any potential outliers.\n",
    "# Each box represents the interquartile range (IQR) of the data, with the median marked as a line inside the box.\n",
    "# The whiskers extend to the minimum and maximum values within 1.5 times the IQR from the first and third quartiles, respectively.\n",
    "# Any data points beyond the whiskers are considered outliers and are plotted individually.\n",
    "iris.boxplot();"
   ]
  },
  {
   "cell_type": "markdown",
   "id": "dffc792f-77a2-499d-ac47-0653bb8c205e",
   "metadata": {},
   "source": [
    "## Quick insights with describe()"
   ]
  },
  {
   "cell_type": "code",
   "execution_count": 33,
   "id": "3e3f2015-7141-4109-a458-39805aab95d4",
   "metadata": {},
   "outputs": [
    {
     "data": {
      "text/html": [
       "<div>\n",
       "<style scoped>\n",
       "    .dataframe tbody tr th:only-of-type {\n",
       "        vertical-align: middle;\n",
       "    }\n",
       "\n",
       "    .dataframe tbody tr th {\n",
       "        vertical-align: top;\n",
       "    }\n",
       "\n",
       "    .dataframe thead th {\n",
       "        text-align: right;\n",
       "    }\n",
       "</style>\n",
       "<table border=\"1\" class=\"dataframe\">\n",
       "  <thead>\n",
       "    <tr style=\"text-align: right;\">\n",
       "      <th></th>\n",
       "      <th>sepal_length</th>\n",
       "      <th>sepal_width</th>\n",
       "      <th>petal_length</th>\n",
       "      <th>petal_width</th>\n",
       "    </tr>\n",
       "  </thead>\n",
       "  <tbody>\n",
       "    <tr>\n",
       "      <th>count</th>\n",
       "      <td>150.000000</td>\n",
       "      <td>150.000000</td>\n",
       "      <td>150.000000</td>\n",
       "      <td>150.000000</td>\n",
       "    </tr>\n",
       "    <tr>\n",
       "      <th>mean</th>\n",
       "      <td>5.843333</td>\n",
       "      <td>3.057333</td>\n",
       "      <td>3.758000</td>\n",
       "      <td>1.199333</td>\n",
       "    </tr>\n",
       "    <tr>\n",
       "      <th>std</th>\n",
       "      <td>0.828066</td>\n",
       "      <td>0.435866</td>\n",
       "      <td>1.765298</td>\n",
       "      <td>0.762238</td>\n",
       "    </tr>\n",
       "    <tr>\n",
       "      <th>min</th>\n",
       "      <td>4.300000</td>\n",
       "      <td>2.000000</td>\n",
       "      <td>1.000000</td>\n",
       "      <td>0.100000</td>\n",
       "    </tr>\n",
       "    <tr>\n",
       "      <th>25%</th>\n",
       "      <td>5.100000</td>\n",
       "      <td>2.800000</td>\n",
       "      <td>1.600000</td>\n",
       "      <td>0.300000</td>\n",
       "    </tr>\n",
       "    <tr>\n",
       "      <th>50%</th>\n",
       "      <td>5.800000</td>\n",
       "      <td>3.000000</td>\n",
       "      <td>4.350000</td>\n",
       "      <td>1.300000</td>\n",
       "    </tr>\n",
       "    <tr>\n",
       "      <th>75%</th>\n",
       "      <td>6.400000</td>\n",
       "      <td>3.300000</td>\n",
       "      <td>5.100000</td>\n",
       "      <td>1.800000</td>\n",
       "    </tr>\n",
       "    <tr>\n",
       "      <th>max</th>\n",
       "      <td>7.900000</td>\n",
       "      <td>4.400000</td>\n",
       "      <td>6.900000</td>\n",
       "      <td>2.500000</td>\n",
       "    </tr>\n",
       "  </tbody>\n",
       "</table>\n",
       "</div>"
      ],
      "text/plain": [
       "       sepal_length  sepal_width  petal_length  petal_width\n",
       "count    150.000000   150.000000    150.000000   150.000000\n",
       "mean       5.843333     3.057333      3.758000     1.199333\n",
       "std        0.828066     0.435866      1.765298     0.762238\n",
       "min        4.300000     2.000000      1.000000     0.100000\n",
       "25%        5.100000     2.800000      1.600000     0.300000\n",
       "50%        5.800000     3.000000      4.350000     1.300000\n",
       "75%        6.400000     3.300000      5.100000     1.800000\n",
       "max        7.900000     4.400000      6.900000     2.500000"
      ]
     },
     "execution_count": 33,
     "metadata": {},
     "output_type": "execute_result"
    }
   ],
   "source": [
    "# Prepare for a detailed statistical summary of our Iris dataset!\n",
    "# The describe() function provides descriptive statistics for each numerical column in the DataFrame.\n",
    "# These statistics include count, mean, standard deviation, minimum, 25th percentile (Q1), median (50th percentile or Q2), 75th percentile (Q3), and maximum.\n",
    "# This summary allows us to quickly assess the central tendency, variability, and distribution of the data.\n",
    "iris.describe()"
   ]
  },
  {
   "cell_type": "markdown",
   "id": "a3ec5ff9-5f09-4f72-bb32-6f9f2649980d",
   "metadata": {
    "collapsed": true,
    "jupyter": {
     "outputs_hidden": true
    }
   },
   "source": [
    "## Relationship between variables"
   ]
  },
  {
   "cell_type": "code",
   "execution_count": 37,
   "id": "e2c6b4a6-3c7e-4e3b-97e5-fdd7d627f6de",
   "metadata": {},
   "outputs": [
    {
     "data": {
      "text/html": [
       "<div>\n",
       "<style scoped>\n",
       "    .dataframe tbody tr th:only-of-type {\n",
       "        vertical-align: middle;\n",
       "    }\n",
       "\n",
       "    .dataframe tbody tr th {\n",
       "        vertical-align: top;\n",
       "    }\n",
       "\n",
       "    .dataframe thead th {\n",
       "        text-align: right;\n",
       "    }\n",
       "</style>\n",
       "<table border=\"1\" class=\"dataframe\">\n",
       "  <thead>\n",
       "    <tr style=\"text-align: right;\">\n",
       "      <th></th>\n",
       "      <th>sepal_length</th>\n",
       "      <th>sepal_width</th>\n",
       "      <th>petal_length</th>\n",
       "      <th>petal_width</th>\n",
       "    </tr>\n",
       "  </thead>\n",
       "  <tbody>\n",
       "    <tr>\n",
       "      <th>sepal_length</th>\n",
       "      <td>1.000000</td>\n",
       "      <td>-0.117570</td>\n",
       "      <td>0.871754</td>\n",
       "      <td>0.817941</td>\n",
       "    </tr>\n",
       "    <tr>\n",
       "      <th>sepal_width</th>\n",
       "      <td>-0.117570</td>\n",
       "      <td>1.000000</td>\n",
       "      <td>-0.428440</td>\n",
       "      <td>-0.366126</td>\n",
       "    </tr>\n",
       "    <tr>\n",
       "      <th>petal_length</th>\n",
       "      <td>0.871754</td>\n",
       "      <td>-0.428440</td>\n",
       "      <td>1.000000</td>\n",
       "      <td>0.962865</td>\n",
       "    </tr>\n",
       "    <tr>\n",
       "      <th>petal_width</th>\n",
       "      <td>0.817941</td>\n",
       "      <td>-0.366126</td>\n",
       "      <td>0.962865</td>\n",
       "      <td>1.000000</td>\n",
       "    </tr>\n",
       "  </tbody>\n",
       "</table>\n",
       "</div>"
      ],
      "text/plain": [
       "              sepal_length  sepal_width  petal_length  petal_width\n",
       "sepal_length      1.000000    -0.117570      0.871754     0.817941\n",
       "sepal_width      -0.117570     1.000000     -0.428440    -0.366126\n",
       "petal_length      0.871754    -0.428440      1.000000     0.962865\n",
       "petal_width       0.817941    -0.366126      0.962865     1.000000"
      ]
     },
     "execution_count": 37,
     "metadata": {},
     "output_type": "execute_result"
    }
   ],
   "source": [
    "# Let's dive into the correlation matrix of our Iris dataset!\n",
    "# The corr() function computes the pairwise correlation coefficients between numerical columns in the DataFrame.\n",
    "# This correlation matrix reveals how each numerical variable is related to others, ranging from -1 to 1.\n",
    "# A correlation of 1 indicates a perfect positive linear relationship, -1 indicates a perfect negative linear relationship, and 0 indicates no linear relationship.\n",
    "iris.corr(numeric_only=True)"
   ]
  },
  {
   "cell_type": "code",
   "execution_count": 40,
   "id": "64d0171b-f8f9-46d8-8d40-d1c096c1273c",
   "metadata": {},
   "outputs": [
    {
     "data": {
      "text/html": [
       "<style type=\"text/css\">\n",
       "#T_323dd_row0_col0, #T_323dd_row1_col1, #T_323dd_row2_col2, #T_323dd_row3_col3 {\n",
       "  background-color: #006837;\n",
       "  color: #f1f1f1;\n",
       "}\n",
       "#T_323dd_row0_col1, #T_323dd_row1_col0 {\n",
       "  background-color: #f57748;\n",
       "  color: #f1f1f1;\n",
       "}\n",
       "#T_323dd_row0_col2, #T_323dd_row2_col0 {\n",
       "  background-color: #16914d;\n",
       "  color: #f1f1f1;\n",
       "}\n",
       "#T_323dd_row0_col3, #T_323dd_row3_col0 {\n",
       "  background-color: #2da155;\n",
       "  color: #f1f1f1;\n",
       "}\n",
       "#T_323dd_row1_col2, #T_323dd_row2_col1 {\n",
       "  background-color: #a50026;\n",
       "  color: #f1f1f1;\n",
       "}\n",
       "#T_323dd_row1_col3, #T_323dd_row3_col1 {\n",
       "  background-color: #bb1526;\n",
       "  color: #f1f1f1;\n",
       "}\n",
       "#T_323dd_row2_col3, #T_323dd_row3_col2 {\n",
       "  background-color: #06733d;\n",
       "  color: #f1f1f1;\n",
       "}\n",
       "</style>\n",
       "<table id=\"T_323dd\">\n",
       "  <thead>\n",
       "    <tr>\n",
       "      <th class=\"blank level0\" >&nbsp;</th>\n",
       "      <th id=\"T_323dd_level0_col0\" class=\"col_heading level0 col0\" >sepal_length</th>\n",
       "      <th id=\"T_323dd_level0_col1\" class=\"col_heading level0 col1\" >sepal_width</th>\n",
       "      <th id=\"T_323dd_level0_col2\" class=\"col_heading level0 col2\" >petal_length</th>\n",
       "      <th id=\"T_323dd_level0_col3\" class=\"col_heading level0 col3\" >petal_width</th>\n",
       "    </tr>\n",
       "  </thead>\n",
       "  <tbody>\n",
       "    <tr>\n",
       "      <th id=\"T_323dd_level0_row0\" class=\"row_heading level0 row0\" >sepal_length</th>\n",
       "      <td id=\"T_323dd_row0_col0\" class=\"data row0 col0\" >1.000000</td>\n",
       "      <td id=\"T_323dd_row0_col1\" class=\"data row0 col1\" >-0.117570</td>\n",
       "      <td id=\"T_323dd_row0_col2\" class=\"data row0 col2\" >0.871754</td>\n",
       "      <td id=\"T_323dd_row0_col3\" class=\"data row0 col3\" >0.817941</td>\n",
       "    </tr>\n",
       "    <tr>\n",
       "      <th id=\"T_323dd_level0_row1\" class=\"row_heading level0 row1\" >sepal_width</th>\n",
       "      <td id=\"T_323dd_row1_col0\" class=\"data row1 col0\" >-0.117570</td>\n",
       "      <td id=\"T_323dd_row1_col1\" class=\"data row1 col1\" >1.000000</td>\n",
       "      <td id=\"T_323dd_row1_col2\" class=\"data row1 col2\" >-0.428440</td>\n",
       "      <td id=\"T_323dd_row1_col3\" class=\"data row1 col3\" >-0.366126</td>\n",
       "    </tr>\n",
       "    <tr>\n",
       "      <th id=\"T_323dd_level0_row2\" class=\"row_heading level0 row2\" >petal_length</th>\n",
       "      <td id=\"T_323dd_row2_col0\" class=\"data row2 col0\" >0.871754</td>\n",
       "      <td id=\"T_323dd_row2_col1\" class=\"data row2 col1\" >-0.428440</td>\n",
       "      <td id=\"T_323dd_row2_col2\" class=\"data row2 col2\" >1.000000</td>\n",
       "      <td id=\"T_323dd_row2_col3\" class=\"data row2 col3\" >0.962865</td>\n",
       "    </tr>\n",
       "    <tr>\n",
       "      <th id=\"T_323dd_level0_row3\" class=\"row_heading level0 row3\" >petal_width</th>\n",
       "      <td id=\"T_323dd_row3_col0\" class=\"data row3 col0\" >0.817941</td>\n",
       "      <td id=\"T_323dd_row3_col1\" class=\"data row3 col1\" >-0.366126</td>\n",
       "      <td id=\"T_323dd_row3_col2\" class=\"data row3 col2\" >0.962865</td>\n",
       "      <td id=\"T_323dd_row3_col3\" class=\"data row3 col3\" >1.000000</td>\n",
       "    </tr>\n",
       "  </tbody>\n",
       "</table>\n"
      ],
      "text/plain": [
       "<pandas.io.formats.style.Styler at 0x24eb276ce90>"
      ]
     },
     "execution_count": 40,
     "metadata": {},
     "output_type": "execute_result"
    }
   ],
   "source": [
    "# Get ready for a splash of color as we add some style to our correlation matrix!\n",
    "# The background_gradient() function applies a gradient color scheme to the correlation matrix, making it visually appealing.\n",
    "# We're using the 'RdYlGn' colormap, which ranges from red to yellow to green, indicating negative, neutral, and positive correlations respectively.\n",
    "# The 'axis=None' parameter ensures that the gradient is applied to the entire matrix rather than just rows or columns.\n",
    "iris.corr(numeric_only=True).style.background_gradient(cmap='RdYlGn', axis=None)"
   ]
  }
 ],
 "metadata": {
  "kernelspec": {
   "display_name": "Python 3 (ipykernel)",
   "language": "python",
   "name": "python3"
  },
  "language_info": {
   "codemirror_mode": {
    "name": "ipython",
    "version": 3
   },
   "file_extension": ".py",
   "mimetype": "text/x-python",
   "name": "python",
   "nbconvert_exporter": "python",
   "pygments_lexer": "ipython3",
   "version": "3.12.1"
  }
 },
 "nbformat": 4,
 "nbformat_minor": 5
}

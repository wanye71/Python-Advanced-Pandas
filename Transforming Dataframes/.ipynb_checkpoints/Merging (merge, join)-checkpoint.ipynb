{
 "cells": [
  {
   "cell_type": "markdown",
   "id": "6498ff67-97bf-45c3-b35a-2363db75466e",
   "metadata": {},
   "source": [
    "<center><h1>Merging DataFrames</h1></center>"
   ]
  },
  {
   "cell_type": "code",
   "execution_count": 1,
   "id": "5a86fe5b-14a7-45a4-91a9-aa639a6c7d29",
   "metadata": {},
   "outputs": [],
   "source": [
    "# Alright, let's get started with our data journey! We're importing the pandas library, a powerful tool for data manipulation and analysis.\n",
    "# Think of pandas as our trusty guide, helping us navigate through the vast landscape of data with ease.\n",
    "\n",
    "import pandas as pd"
   ]
  },
  {
   "cell_type": "code",
   "execution_count": 2,
   "id": "0327f77d-e0b2-43e6-95bf-1685173b99bc",
   "metadata": {},
   "outputs": [],
   "source": [
    "# Now that we have pandas by our side, let's embark on our data adventure! We're creating two DataFrames, df1 and df2,\n",
    "# each containing information about letters and their corresponding numbers.\n",
    "\n",
    "# Imagine df1 as a collection of letters A, B, C, and D, paired with their respective numbers 1, 2, 3, and 4.\n",
    "# It's like having a treasure map with clues leading us to hidden treasures represented by these letters and numbers.\n",
    "\n",
    "# Similarly, df2 holds another set of letters C, D, E, and F, along with their associated numbers 3, 4, 5, and 6.\n",
    "# It's as if we stumbled upon another map, revealing new treasures waiting to be discovered.\n",
    "\n",
    "df1 = pd.DataFrame({'letter':['A', 'B', 'C', 'D'],\n",
    "                   'number':[1,2,3,4],})\n",
    "\n",
    "df2 = pd.DataFrame({'letter':['C', 'D', 'E', 'F'],\n",
    "                   'number':[3,4,5,6],})"
   ]
  },
  {
   "cell_type": "markdown",
   "id": "2c2a1eb7-570c-4c40-a279-b66fbc7a058a",
   "metadata": {},
   "source": [
    "## Left Join"
   ]
  },
  {
   "cell_type": "code",
   "execution_count": 3,
   "id": "b58fbe92-712c-4741-b514-bf855e4bae99",
   "metadata": {
    "jupyter": {
     "source_hidden": true
    }
   },
   "outputs": [
    {
     "data": {
      "text/html": [
       "<div>\n",
       "<style scoped>\n",
       "    .dataframe tbody tr th:only-of-type {\n",
       "        vertical-align: middle;\n",
       "    }\n",
       "\n",
       "    .dataframe tbody tr th {\n",
       "        vertical-align: top;\n",
       "    }\n",
       "\n",
       "    .dataframe thead th {\n",
       "        text-align: right;\n",
       "    }\n",
       "</style>\n",
       "<table border=\"1\" class=\"dataframe\">\n",
       "  <thead>\n",
       "    <tr style=\"text-align: right;\">\n",
       "      <th></th>\n",
       "      <th>letter_x</th>\n",
       "      <th>number</th>\n",
       "      <th>letter_y</th>\n",
       "    </tr>\n",
       "  </thead>\n",
       "  <tbody>\n",
       "    <tr>\n",
       "      <th>0</th>\n",
       "      <td>A</td>\n",
       "      <td>1</td>\n",
       "      <td>NaN</td>\n",
       "    </tr>\n",
       "    <tr>\n",
       "      <th>1</th>\n",
       "      <td>B</td>\n",
       "      <td>2</td>\n",
       "      <td>NaN</td>\n",
       "    </tr>\n",
       "    <tr>\n",
       "      <th>2</th>\n",
       "      <td>C</td>\n",
       "      <td>3</td>\n",
       "      <td>C</td>\n",
       "    </tr>\n",
       "    <tr>\n",
       "      <th>3</th>\n",
       "      <td>D</td>\n",
       "      <td>4</td>\n",
       "      <td>D</td>\n",
       "    </tr>\n",
       "  </tbody>\n",
       "</table>\n",
       "</div>"
      ],
      "text/plain": [
       "  letter_x  number letter_y\n",
       "0        A       1      NaN\n",
       "1        B       2      NaN\n",
       "2        C       3        C\n",
       "3        D       4        D"
      ]
     },
     "execution_count": 3,
     "metadata": {},
     "output_type": "execute_result"
    }
   ],
   "source": [
    "# Ah, it seems we've stumbled upon an intersection of our data maps! We're merging DataFrame df1 with df2,\n",
    "# using the 'number' column as our guide. This merge operation will help us uncover connections between the two datasets,\n",
    "# revealing shared treasures and uncovering new insights.\n",
    "\n",
    "# By specifying 'left' as the merging method, we're ensuring that all rows from df1 are retained,\n",
    "# with matching rows from df2 appended where available. It's like overlaying one map onto another,\n",
    "# allowing us to see where the treasures align and where they diverge.\n",
    "\n",
    "# The 'number' column serves as our key, guiding us through the merging process and helping us navigate the data landscape.\n",
    "# With each merge, we piece together the puzzle of our data story, unlocking hidden gems and revealing patterns.\n",
    "\n",
    "# The 'how' parameter determines the merging method. Here, we've chosen 'left', indicating that we want to retain all rows from df1,\n",
    "# even if there are no matching rows in df2.\n",
    "\n",
    "# The 'on' parameter specifies the column(s) to merge on. In our case, we're merging based on the 'number' column,\n",
    "# which acts as a common identifier between the two DataFrames.\n",
    "\n",
    "merged_df = df1.merge(df2, how='left', on='number')\n",
    "merged_df"
   ]
  },
  {
   "cell_type": "markdown",
   "id": "8d2dfbae-7a2b-4c1a-b940-045a989687e7",
   "metadata": {},
   "source": [
    "## Inner Join"
   ]
  },
  {
   "cell_type": "code",
   "execution_count": 4,
   "id": "23c59714-15a0-42d9-b56b-44f1ea507b55",
   "metadata": {
    "jupyter": {
     "source_hidden": true
    }
   },
   "outputs": [
    {
     "data": {
      "text/html": [
       "<div>\n",
       "<style scoped>\n",
       "    .dataframe tbody tr th:only-of-type {\n",
       "        vertical-align: middle;\n",
       "    }\n",
       "\n",
       "    .dataframe tbody tr th {\n",
       "        vertical-align: top;\n",
       "    }\n",
       "\n",
       "    .dataframe thead th {\n",
       "        text-align: right;\n",
       "    }\n",
       "</style>\n",
       "<table border=\"1\" class=\"dataframe\">\n",
       "  <thead>\n",
       "    <tr style=\"text-align: right;\">\n",
       "      <th></th>\n",
       "      <th>letter_x</th>\n",
       "      <th>number</th>\n",
       "      <th>letter_y</th>\n",
       "    </tr>\n",
       "  </thead>\n",
       "  <tbody>\n",
       "    <tr>\n",
       "      <th>0</th>\n",
       "      <td>C</td>\n",
       "      <td>3</td>\n",
       "      <td>C</td>\n",
       "    </tr>\n",
       "    <tr>\n",
       "      <th>1</th>\n",
       "      <td>D</td>\n",
       "      <td>4</td>\n",
       "      <td>D</td>\n",
       "    </tr>\n",
       "  </tbody>\n",
       "</table>\n",
       "</div>"
      ],
      "text/plain": [
       "  letter_x  number letter_y\n",
       "0        C       3        C\n",
       "1        D       4        D"
      ]
     },
     "execution_count": 4,
     "metadata": {},
     "output_type": "execute_result"
    }
   ],
   "source": [
    "# It looks like we're diving deeper into the intersection of our data maps! We're merging DataFrame df1 with df2 once again,\n",
    "# but this time using an inner join to uncover only the shared treasures between the two datasets.\n",
    "\n",
    "# By specifying 'inner' as the merging method, we're focusing solely on the overlapping regions of our data maps,\n",
    "# where the treasures are shared between both datasets. It's like zooming in on a specific area of our maps,\n",
    "# where we expect to find common landmarks and hidden gems.\n",
    "\n",
    "# The 'left_on' and 'right_on' parameters allow us to specify the columns to merge on from each DataFrame.\n",
    "# Here, we're using 'number' as the key column from both df1 and df2, ensuring that we align the treasures correctly\n",
    "# and uncover meaningful connections between the two datasets.\n",
    "\n",
    "# As we embark on this inner journey, we anticipate discovering shared insights and uncovering hidden patterns\n",
    "# that will enrich our understanding of the data landscape.\n",
    "\n",
    "merged_df = df1.merge(df2, how='inner', left_on='number', right_on='number')\n",
    "merged_df"
   ]
  },
  {
   "cell_type": "markdown",
   "id": "6b664240-aaa0-47de-a182-cbe577d4599d",
   "metadata": {},
   "source": [
    "## Right Join"
   ]
  },
  {
   "cell_type": "code",
   "execution_count": 5,
   "id": "4bf11e88-8d69-43a4-bb62-4dc5514f0258",
   "metadata": {},
   "outputs": [
    {
     "data": {
      "text/html": [
       "<div>\n",
       "<style scoped>\n",
       "    .dataframe tbody tr th:only-of-type {\n",
       "        vertical-align: middle;\n",
       "    }\n",
       "\n",
       "    .dataframe tbody tr th {\n",
       "        vertical-align: top;\n",
       "    }\n",
       "\n",
       "    .dataframe thead th {\n",
       "        text-align: right;\n",
       "    }\n",
       "</style>\n",
       "<table border=\"1\" class=\"dataframe\">\n",
       "  <thead>\n",
       "    <tr style=\"text-align: right;\">\n",
       "      <th></th>\n",
       "      <th>letter</th>\n",
       "      <th>number</th>\n",
       "      <th>letter_right</th>\n",
       "    </tr>\n",
       "  </thead>\n",
       "  <tbody>\n",
       "    <tr>\n",
       "      <th>0</th>\n",
       "      <td>C</td>\n",
       "      <td>3</td>\n",
       "      <td>C</td>\n",
       "    </tr>\n",
       "    <tr>\n",
       "      <th>1</th>\n",
       "      <td>D</td>\n",
       "      <td>4</td>\n",
       "      <td>D</td>\n",
       "    </tr>\n",
       "    <tr>\n",
       "      <th>2</th>\n",
       "      <td>NaN</td>\n",
       "      <td>5</td>\n",
       "      <td>E</td>\n",
       "    </tr>\n",
       "    <tr>\n",
       "      <th>3</th>\n",
       "      <td>NaN</td>\n",
       "      <td>6</td>\n",
       "      <td>F</td>\n",
       "    </tr>\n",
       "  </tbody>\n",
       "</table>\n",
       "</div>"
      ],
      "text/plain": [
       "  letter  number letter_right\n",
       "0      C       3            C\n",
       "1      D       4            D\n",
       "2    NaN       5            E\n",
       "3    NaN       6            F"
      ]
     },
     "execution_count": 5,
     "metadata": {},
     "output_type": "execute_result"
    }
   ],
   "source": [
    "# Ah, it seems we're exploring a different path this time! We're merging DataFrame df1 with df2, but with a twist.\n",
    "# This time, we're using a right join to ensure that all rows from df2 are retained, even if there are no matching rows in df1.\n",
    "\n",
    "# By specifying 'right' as the merging method, we're prioritizing the rows from df2, ensuring that they all find a place in the merged DataFrame.\n",
    "# It's like extending an invitation to all the treasures on the right side of our map, ensuring they're not left behind.\n",
    "\n",
    "# The 'on' parameter specifies the column to merge on, and here we're using the 'number' column as our guide,\n",
    "# ensuring that the merging process aligns with the numeric keys in both datasets.\n",
    "\n",
    "# Additionally, we're using the 'suffixes' parameter to add a suffix to any overlapping column names between df1 and df2.\n",
    "# This helps us differentiate between columns from the left and right DataFrames, ensuring clarity and avoiding confusion.\n",
    "\n",
    "# As we merge df1 with df2 using a right join, we anticipate uncovering new insights and expanding our understanding\n",
    "# of the data landscape, with each row representing a unique treasure waiting to be discovered.\n",
    "\n",
    "merged_df = df1.merge(df2, how='right', on='number', suffixes=('', '_right'))\n",
    "merged_df"
   ]
  },
  {
   "cell_type": "code",
   "execution_count": null,
   "id": "6d87eedb-3192-4ace-9d08-c6ee0502f75e",
   "metadata": {},
   "outputs": [],
   "source": []
  }
 ],
 "metadata": {
  "kernelspec": {
   "display_name": "Python 3 (ipykernel)",
   "language": "python",
   "name": "python3"
  },
  "language_info": {
   "codemirror_mode": {
    "name": "ipython",
    "version": 3
   },
   "file_extension": ".py",
   "mimetype": "text/x-python",
   "name": "python",
   "nbconvert_exporter": "python",
   "pygments_lexer": "ipython3",
   "version": "3.12.1"
  }
 },
 "nbformat": 4,
 "nbformat_minor": 5
}

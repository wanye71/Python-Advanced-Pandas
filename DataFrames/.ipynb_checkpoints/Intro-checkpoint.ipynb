{
 "cells": [
  {
   "cell_type": "markdown",
   "id": "ab7723de-6cd8-439f-a2fc-84e7bc3f5e29",
   "metadata": {},
   "source": [
    "<div align=\"center\">\n",
    "  <h1>Intro to DataFrames</h1>\n",
    "</div>"
   ]
  },
  {
   "cell_type": "code",
   "execution_count": 2,
   "id": "e270cd99-7716-4f03-9059-d27c3f901c19",
   "metadata": {},
   "outputs": [],
   "source": [
    "# Import the pandas library and assign it the alias 'pd'\n",
    "import pandas as pd"
   ]
  },
  {
   "cell_type": "code",
   "execution_count": 3,
   "id": "dc2436b2-a291-41a7-9344-11f310e4b318",
   "metadata": {},
   "outputs": [],
   "source": [
    "# Define a dictionary containing information about scores\n",
    "scores = {\n",
    "    # List of names\n",
    "    \"name\": ['Ray', 'Japhy', 'Zosa'],\n",
    "    # List of cities\n",
    "    \"city\": ['San Francisco', 'Charlotte', 'Denver'],\n",
    "    # List of scores\n",
    "    \"score\": [75, 92, 94]\n",
    "}\n"
   ]
  },
  {
   "cell_type": "code",
   "execution_count": 4,
   "id": "7acd4537-b9a7-40ee-b300-6d71550f2680",
   "metadata": {},
   "outputs": [],
   "source": [
    "# Create a DataFrame from the 'scores' dictionary\n",
    "df = pd.DataFrame(scores)"
   ]
  },
  {
   "cell_type": "code",
   "execution_count": 6,
   "id": "41996c6f-e52c-48b8-9b05-63ba99109882",
   "metadata": {
    "collapsed": true,
    "jupyter": {
     "outputs_hidden": true
    }
   },
   "outputs": [
    {
     "data": {
      "text/html": [
       "<div>\n",
       "<style scoped>\n",
       "    .dataframe tbody tr th:only-of-type {\n",
       "        vertical-align: middle;\n",
       "    }\n",
       "\n",
       "    .dataframe tbody tr th {\n",
       "        vertical-align: top;\n",
       "    }\n",
       "\n",
       "    .dataframe thead th {\n",
       "        text-align: right;\n",
       "    }\n",
       "</style>\n",
       "<table border=\"1\" class=\"dataframe\">\n",
       "  <thead>\n",
       "    <tr style=\"text-align: right;\">\n",
       "      <th></th>\n",
       "      <th>name</th>\n",
       "      <th>city</th>\n",
       "      <th>score</th>\n",
       "    </tr>\n",
       "  </thead>\n",
       "  <tbody>\n",
       "    <tr>\n",
       "      <th>0</th>\n",
       "      <td>Ray</td>\n",
       "      <td>San Francisco</td>\n",
       "      <td>75</td>\n",
       "    </tr>\n",
       "    <tr>\n",
       "      <th>1</th>\n",
       "      <td>Japhy</td>\n",
       "      <td>Charlotte</td>\n",
       "      <td>92</td>\n",
       "    </tr>\n",
       "    <tr>\n",
       "      <th>2</th>\n",
       "      <td>Zosa</td>\n",
       "      <td>Denver</td>\n",
       "      <td>94</td>\n",
       "    </tr>\n",
       "  </tbody>\n",
       "</table>\n",
       "</div>"
      ],
      "text/plain": [
       "    name           city  score\n",
       "0    Ray  San Francisco     75\n",
       "1  Japhy      Charlotte     92\n",
       "2   Zosa         Denver     94"
      ]
     },
     "execution_count": 6,
     "metadata": {},
     "output_type": "execute_result"
    }
   ],
   "source": [
    "# This will output the DataFrame 'df', showing the data in a tabular format \n",
    "# with columns for 'name', 'city', and 'score'.\n",
    "# Output: A pandas Series with scores data: 75, 92, 94.\n",
    "df"
   ]
  },
  {
   "cell_type": "code",
   "execution_count": 7,
   "id": "42118b5f-869a-4cd2-b9de-4e233ce579f3",
   "metadata": {
    "collapsed": true,
    "jupyter": {
     "outputs_hidden": true
    }
   },
   "outputs": [
    {
     "data": {
      "text/plain": [
       "0    75\n",
       "1    92\n",
       "2    94\n",
       "Name: score, dtype: int64"
      ]
     },
     "execution_count": 7,
     "metadata": {},
     "output_type": "execute_result"
    }
   ],
   "source": [
    "# Access the 'score' column of the DataFrame 'df'\n",
    "df['score']"
   ]
  },
  {
   "cell_type": "code",
   "execution_count": 8,
   "id": "9923eeb1-ee25-4fb4-afd4-1cf75a323c54",
   "metadata": {},
   "outputs": [],
   "source": [
    "# Create a new column in the DataFrame by concatenating 'name' and 'city' columns, \n",
    "# separated by an underscore\n",
    "df['name_city'] = df['name'] + '_' + df['city']"
   ]
  },
  {
   "cell_type": "code",
   "execution_count": 10,
   "id": "7e0a256e-0a7f-4581-97a0-8cb42391d67d",
   "metadata": {},
   "outputs": [
    {
     "data": {
      "text/html": [
       "<div>\n",
       "<style scoped>\n",
       "    .dataframe tbody tr th:only-of-type {\n",
       "        vertical-align: middle;\n",
       "    }\n",
       "\n",
       "    .dataframe tbody tr th {\n",
       "        vertical-align: top;\n",
       "    }\n",
       "\n",
       "    .dataframe thead th {\n",
       "        text-align: right;\n",
       "    }\n",
       "</style>\n",
       "<table border=\"1\" class=\"dataframe\">\n",
       "  <thead>\n",
       "    <tr style=\"text-align: right;\">\n",
       "      <th></th>\n",
       "      <th>name</th>\n",
       "      <th>city</th>\n",
       "      <th>score</th>\n",
       "      <th>name_city</th>\n",
       "    </tr>\n",
       "  </thead>\n",
       "  <tbody>\n",
       "    <tr>\n",
       "      <th>1</th>\n",
       "      <td>Japhy</td>\n",
       "      <td>Charlotte</td>\n",
       "      <td>92</td>\n",
       "      <td>Japhy_Charlotte</td>\n",
       "    </tr>\n",
       "    <tr>\n",
       "      <th>2</th>\n",
       "      <td>Zosa</td>\n",
       "      <td>Denver</td>\n",
       "      <td>94</td>\n",
       "      <td>Zosa_Denver</td>\n",
       "    </tr>\n",
       "  </tbody>\n",
       "</table>\n",
       "</div>"
      ],
      "text/plain": [
       "    name       city  score        name_city\n",
       "1  Japhy  Charlotte     92  Japhy_Charlotte\n",
       "2   Zosa     Denver     94      Zosa_Denver"
      ]
     },
     "execution_count": 10,
     "metadata": {},
     "output_type": "execute_result"
    }
   ],
   "source": [
    "# Filter the DataFrame to select rows where the 'score' column is greater than 90\n",
    "# Result: A DataFrame containing rows where the score is greater than 90.\n",
    "df[df['score'] > 90]"
   ]
  },
  {
   "cell_type": "code",
   "execution_count": null,
   "id": "d6a81eba-dd0c-439b-be02-a4028365604a",
   "metadata": {},
   "outputs": [],
   "source": []
  }
 ],
 "metadata": {
  "kernelspec": {
   "display_name": "Python 3 (ipykernel)",
   "language": "python",
   "name": "python3"
  },
  "language_info": {
   "codemirror_mode": {
    "name": "ipython",
    "version": 3
   },
   "file_extension": ".py",
   "mimetype": "text/x-python",
   "name": "python",
   "nbconvert_exporter": "python",
   "pygments_lexer": "ipython3",
   "version": "3.12.1"
  }
 },
 "nbformat": 4,
 "nbformat_minor": 5
}

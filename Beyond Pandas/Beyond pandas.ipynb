{
 "cells": [
  {
   "cell_type": "markdown",
   "id": "cbb96062-67ad-4954-b8b9-3743cf09d4d6",
   "metadata": {},
   "source": [
    "<center><h1>Accelerate EDA with Pandas Profiling</h1></center>"
   ]
  },
  {
   "cell_type": "code",
   "execution_count": 10,
   "id": "ceaab92a-1193-4386-9ed9-b783a55224c0",
   "metadata": {},
   "outputs": [],
   "source": [
    "# Get ready to dive into data profiling with pandas-profiling!\n",
    "# We're importing the pandas library as pd for some data manipulation magic.\n",
    "# We're also importing the ProfileReport class from the pandas_profiling library to generate data profiling reports.\n",
    "\n",
    "import pandas as pd\n",
    "from pandas_profiling import ProfileReport"
   ]
  },
  {
   "cell_type": "code",
   "execution_count": 12,
   "id": "5e4377a4-c4ef-4978-8b7a-3615a05d6f3c",
   "metadata": {},
   "outputs": [],
   "source": [
    "# Time to load up some data and get profiling!\n",
    "# We're reading in the Iris dataset from a CSV file located one directory up.\n",
    "\n",
    "iris = pd.read_csv('../iris.csv')"
   ]
  },
  {
   "cell_type": "code",
   "execution_count": 13,
   "id": "f13240a3-bff4-4eff-8f4d-2de4e75d5c79",
   "metadata": {},
   "outputs": [],
   "source": [
    "# Now, let's get into some serious data profiling!\n",
    "# We're creating a profile report for the Iris dataset using pandas_profiling.\n",
    "\n",
    "profile = ProfileReport(iris, title=\"Ires Data Profile\")"
   ]
  },
  {
   "cell_type": "code",
   "execution_count": 9,
   "id": "d7c374c1-fa9e-4b67-821c-1461cbf2093a",
   "metadata": {},
   "outputs": [],
   "source": [
    "# Let's display the profile report as an interactive notebook iframe.\n",
    "\n",
    "profile.to_notebook_iframe()"
   ]
  }
 ],
 "metadata": {
  "kernelspec": {
   "display_name": "Python 3 (ipykernel)",
   "language": "python",
   "name": "python3"
  },
  "language_info": {
   "codemirror_mode": {
    "name": "ipython",
    "version": 3
   },
   "file_extension": ".py",
   "mimetype": "text/x-python",
   "name": "python",
   "nbconvert_exporter": "python",
   "pygments_lexer": "ipython3",
   "version": "3.12.1"
  }
 },
 "nbformat": 4,
 "nbformat_minor": 5
}

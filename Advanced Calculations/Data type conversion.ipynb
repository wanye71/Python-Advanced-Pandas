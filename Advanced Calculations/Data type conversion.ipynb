{
 "cells": [
  {
   "cell_type": "markdown",
   "id": "18286355-43cf-4bdc-b4f8-f07291da7ead",
   "metadata": {},
   "source": [
    "<div align=\"center\"><h1>Data Types</h1></div>"
   ]
  },
  {
   "cell_type": "code",
   "execution_count": 10,
   "id": "b38ef67d-24a5-473b-bbc9-1b2920d7f8e4",
   "metadata": {},
   "outputs": [],
   "source": [
    "# Import the pandas library and assign it the alias 'pd'\n",
    "import pandas as pd"
   ]
  },
  {
   "cell_type": "code",
   "execution_count": 11,
   "id": "2385dc29-9519-4543-aba5-fa72ce7692b4",
   "metadata": {},
   "outputs": [],
   "source": [
    "# Read the CSV file 'planets.csv' located in the parent directory and create \n",
    "# a DataFrame named 'planets_df'\n",
    "planets_df = pd.read_csv('../planets.csv')"
   ]
  },
  {
   "cell_type": "code",
   "execution_count": 12,
   "id": "017dde5c-ac36-4f1a-87d3-4c4934d92d85",
   "metadata": {},
   "outputs": [
    {
     "data": {
      "text/html": [
       "<div>\n",
       "<style scoped>\n",
       "    .dataframe tbody tr th:only-of-type {\n",
       "        vertical-align: middle;\n",
       "    }\n",
       "\n",
       "    .dataframe tbody tr th {\n",
       "        vertical-align: top;\n",
       "    }\n",
       "\n",
       "    .dataframe thead th {\n",
       "        text-align: right;\n",
       "    }\n",
       "</style>\n",
       "<table border=\"1\" class=\"dataframe\">\n",
       "  <thead>\n",
       "    <tr style=\"text-align: right;\">\n",
       "      <th></th>\n",
       "      <th>method</th>\n",
       "      <th>number</th>\n",
       "      <th>orbital_period</th>\n",
       "      <th>mass</th>\n",
       "      <th>distance</th>\n",
       "      <th>year</th>\n",
       "    </tr>\n",
       "  </thead>\n",
       "  <tbody>\n",
       "    <tr>\n",
       "      <th>0</th>\n",
       "      <td>Radial Velocity</td>\n",
       "      <td>1</td>\n",
       "      <td>269.300</td>\n",
       "      <td>7.10</td>\n",
       "      <td>77.40</td>\n",
       "      <td>2006</td>\n",
       "    </tr>\n",
       "    <tr>\n",
       "      <th>1</th>\n",
       "      <td>Radial Velocity</td>\n",
       "      <td>1</td>\n",
       "      <td>874.774</td>\n",
       "      <td>2.21</td>\n",
       "      <td>56.95</td>\n",
       "      <td>2008</td>\n",
       "    </tr>\n",
       "    <tr>\n",
       "      <th>2</th>\n",
       "      <td>Radial Velocity</td>\n",
       "      <td>1</td>\n",
       "      <td>763.000</td>\n",
       "      <td>2.60</td>\n",
       "      <td>19.84</td>\n",
       "      <td>2011</td>\n",
       "    </tr>\n",
       "  </tbody>\n",
       "</table>\n",
       "</div>"
      ],
      "text/plain": [
       "            method  number  orbital_period  mass  distance  year\n",
       "0  Radial Velocity       1         269.300  7.10     77.40  2006\n",
       "1  Radial Velocity       1         874.774  2.21     56.95  2008\n",
       "2  Radial Velocity       1         763.000  2.60     19.84  2011"
      ]
     },
     "execution_count": 12,
     "metadata": {},
     "output_type": "execute_result"
    }
   ],
   "source": [
    "# Display the first 3 rows of the DataFrame ''\n",
    "planets_df.head(3)"
   ]
  },
  {
   "cell_type": "code",
   "execution_count": 13,
   "id": "19682b97-f47b-43e2-ac0f-f3d9d54b55cc",
   "metadata": {},
   "outputs": [
    {
     "data": {
      "text/plain": [
       "method             object\n",
       "number              int64\n",
       "orbital_period    float64\n",
       "mass              float64\n",
       "distance          float64\n",
       "year                int64\n",
       "dtype: object"
      ]
     },
     "execution_count": 13,
     "metadata": {},
     "output_type": "execute_result"
    }
   ],
   "source": [
    "# Display the data types of each column in the DataFrame\n",
    "planets_df.dtypes"
   ]
  },
  {
   "cell_type": "code",
   "execution_count": 16,
   "id": "e2772bea-c63d-4131-bd28-c0cf37aa7002",
   "metadata": {},
   "outputs": [
    {
     "data": {
      "text/plain": [
       "number               1.785507\n",
       "orbital_period    2002.917596\n",
       "mass                 2.638161\n",
       "distance           264.069282\n",
       "year              2009.070531\n",
       "dtype: float64"
      ]
     },
     "execution_count": 16,
     "metadata": {},
     "output_type": "execute_result"
    }
   ],
   "source": [
    "# Compute the mean values of numeric columns in the DataFrame 'planets_df'\n",
    "planets_df.mean(numeric_only=True)"
   ]
  },
  {
   "cell_type": "code",
   "execution_count": 18,
   "id": "2ec12054-ce5d-4965-a9d1-12566fc139f6",
   "metadata": {},
   "outputs": [
    {
     "data": {
      "text/plain": [
       "0.14084507042253522"
      ]
     },
     "execution_count": 18,
     "metadata": {},
     "output_type": "execute_result"
    }
   ],
   "source": [
    "# Calculate the ratio of the value in the 'number' column at index 0 to \n",
    "# the value in the 'mass' column at index 0\n",
    "planets_df['number'][0] / planets_df['mass'][0]"
   ]
  },
  {
   "cell_type": "code",
   "execution_count": 20,
   "id": "28d82491-7a30-4e54-8ed7-7db2c807d4a6",
   "metadata": {},
   "outputs": [
    {
     "data": {
      "text/plain": [
       "1.0"
      ]
     },
     "execution_count": 20,
     "metadata": {},
     "output_type": "execute_result"
    }
   ],
   "source": [
    "# Convert the value in the 'number' column at index 0 to a floating-point number\n",
    "planets_df['number'][0].astype(float)"
   ]
  },
  {
   "cell_type": "code",
   "execution_count": 21,
   "id": "1e272bd1-4ce5-45ee-b425-01fdc0026bf9",
   "metadata": {},
   "outputs": [
    {
     "data": {
      "text/plain": [
       "7"
      ]
     },
     "execution_count": 21,
     "metadata": {},
     "output_type": "execute_result"
    }
   ],
   "source": [
    "# Convert the value in the 'mass' column at index 0 to an integer\n",
    "planets_df['mass'][0].astype(int)"
   ]
  },
  {
   "cell_type": "code",
   "execution_count": 22,
   "id": "482ecac4-563a-4aa5-8bc7-c025b8daaf46",
   "metadata": {},
   "outputs": [
    {
     "data": {
      "text/plain": [
       "'2006'"
      ]
     },
     "execution_count": 22,
     "metadata": {},
     "output_type": "execute_result"
    }
   ],
   "source": [
    "# Convert the value in the 'year' column at index 0 to a string\n",
    "planets_df['year'][0].astype(str)"
   ]
  },
  {
   "cell_type": "code",
   "execution_count": 26,
   "id": "d92ababd-cde2-4dcf-8bc2-1a1de45d16c6",
   "metadata": {
    "scrolled": true
   },
   "outputs": [
    {
     "data": {
      "text/plain": [
       "0      2006-01-01\n",
       "1      2008-01-01\n",
       "2      2011-01-01\n",
       "3      2007-01-01\n",
       "4      2009-01-01\n",
       "          ...    \n",
       "1030   2006-01-01\n",
       "1031   2007-01-01\n",
       "1032   2007-01-01\n",
       "1033   2008-01-01\n",
       "1034   2008-01-01\n",
       "Name: year_td, Length: 1035, dtype: datetime64[ns]"
      ]
     },
     "execution_count": 26,
     "metadata": {},
     "output_type": "execute_result"
    }
   ],
   "source": [
    "# Create a new column 'year_td' in the DataFrame 'planets_df' with datetime objects containing only the year component\n",
    "planets_df['year_td'] = pd.to_datetime(planets_df['year'], format='%Y')\n",
    "# Retrieve the values stored in the 'year_td' column of the DataFrame 'planets_df'\n",
    "planets_df['year_td']"
   ]
  }
 ],
 "metadata": {
  "kernelspec": {
   "display_name": "Python 3 (ipykernel)",
   "language": "python",
   "name": "python3"
  },
  "language_info": {
   "codemirror_mode": {
    "name": "ipython",
    "version": 3
   },
   "file_extension": ".py",
   "mimetype": "text/x-python",
   "name": "python",
   "nbconvert_exporter": "python",
   "pygments_lexer": "ipython3",
   "version": "3.12.1"
  }
 },
 "nbformat": 4,
 "nbformat_minor": 5
}

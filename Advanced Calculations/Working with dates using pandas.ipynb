{
 "cells": [
  {
   "cell_type": "markdown",
   "id": "e3a94b96-2507-465d-91e1-382091c353a9",
   "metadata": {},
   "source": [
    "<div align=\"center\"><h1>Working with Dates</h1></div>"
   ]
  },
  {
   "cell_type": "code",
   "execution_count": 1,
   "id": "eb40dc31-8d3a-4737-93ba-a90da3e4a34d",
   "metadata": {},
   "outputs": [],
   "source": [
    "# Import the pandas library and assign it the alias 'pd'\n",
    "import pandas as pd"
   ]
  },
  {
   "cell_type": "markdown",
   "id": "019f48f9-3e64-46c6-b7b3-c5047d59ab50",
   "metadata": {},
   "source": [
    "## Generate series of dates with period_range"
   ]
  },
  {
   "cell_type": "code",
   "execution_count": 46,
   "id": "9f8f7292-89f5-40d4-a7d4-9f727e445ba3",
   "metadata": {},
   "outputs": [],
   "source": [
    "# Create a pandas PeriodIndex 'daterange_df' with a frequency of 30 days, \n",
    "# starting from May 1, 2024, and consisting of 4 periods\n",
    "daterange_df = pd.period_range('5/1/2024', freq='30d', periods=4)"
   ]
  },
  {
   "cell_type": "code",
   "execution_count": 54,
   "id": "97e42863-82bc-47a4-ad28-ca8d1796a0f3",
   "metadata": {},
   "outputs": [
    {
     "data": {
      "text/html": [
       "<div>\n",
       "<style scoped>\n",
       "    .dataframe tbody tr th:only-of-type {\n",
       "        vertical-align: middle;\n",
       "    }\n",
       "\n",
       "    .dataframe tbody tr th {\n",
       "        vertical-align: top;\n",
       "    }\n",
       "\n",
       "    .dataframe thead th {\n",
       "        text-align: right;\n",
       "    }\n",
       "</style>\n",
       "<table border=\"1\" class=\"dataframe\">\n",
       "  <thead>\n",
       "    <tr style=\"text-align: right;\">\n",
       "      <th></th>\n",
       "      <th>sample date</th>\n",
       "    </tr>\n",
       "  </thead>\n",
       "  <tbody>\n",
       "    <tr>\n",
       "      <th>0</th>\n",
       "      <td>2024-05-01</td>\n",
       "    </tr>\n",
       "    <tr>\n",
       "      <th>1</th>\n",
       "      <td>2024-05-31</td>\n",
       "    </tr>\n",
       "    <tr>\n",
       "      <th>2</th>\n",
       "      <td>2024-06-30</td>\n",
       "    </tr>\n",
       "    <tr>\n",
       "      <th>3</th>\n",
       "      <td>2024-07-30</td>\n",
       "    </tr>\n",
       "  </tbody>\n",
       "</table>\n",
       "</div>"
      ],
      "text/plain": [
       "  sample date\n",
       "0  2024-05-01\n",
       "1  2024-05-31\n",
       "2  2024-06-30\n",
       "3  2024-07-30"
      ]
     },
     "execution_count": 54,
     "metadata": {},
     "output_type": "execute_result"
    }
   ],
   "source": [
    "# Create a pandas DataFrame 'date_df' with a single column 'sample date' \n",
    "# containing the values from 'daterange_df'\n",
    "date_df = pd.DataFrame(data=daterange_df, columns=['sample date'])\n",
    "\n",
    "# The resulting DataFrame 'date_df' will have a single column named 'sample date', \n",
    "# with each row containing a value from the 'daterange_df' PeriodIndex.\n",
    "\n",
    "# Display the DataFrame 'date_df'\n",
    "date_df"
   ]
  },
  {
   "cell_type": "markdown",
   "id": "e2f457b2-ab6d-424a-b125-a3a8c5d1be84",
   "metadata": {},
   "source": [
    "## Date difference from prior date using diff"
   ]
  },
  {
   "cell_type": "code",
   "execution_count": 66,
   "id": "fa9ff2db-423b-4e46-bd79-f932f3ef20bd",
   "metadata": {},
   "outputs": [],
   "source": [
    "# Import the 'warnings' module to manage warnings in Python\n",
    "import warnings\n",
    "\n",
    "# Suppress RuntimeWarning warnings\n",
    "# Filter out RuntimeWarning warnings and ignore them\n",
    "warnings.filterwarnings('ignore', category=RuntimeWarning)\n",
    "warnings.simplefilter(action='ignore', category=pd.errors.PerformanceWarning)\n"
   ]
  },
  {
   "cell_type": "code",
   "execution_count": 67,
   "id": "4d9f05de-5dcf-4804-a6fd-8a950dd19dea",
   "metadata": {},
   "outputs": [
    {
     "data": {
      "text/html": [
       "<div>\n",
       "<style scoped>\n",
       "    .dataframe tbody tr th:only-of-type {\n",
       "        vertical-align: middle;\n",
       "    }\n",
       "\n",
       "    .dataframe tbody tr th {\n",
       "        vertical-align: top;\n",
       "    }\n",
       "\n",
       "    .dataframe thead th {\n",
       "        text-align: right;\n",
       "    }\n",
       "</style>\n",
       "<table border=\"1\" class=\"dataframe\">\n",
       "  <thead>\n",
       "    <tr style=\"text-align: right;\">\n",
       "      <th></th>\n",
       "      <th>sample date</th>\n",
       "      <th>date difference</th>\n",
       "      <th>first of month</th>\n",
       "    </tr>\n",
       "  </thead>\n",
       "  <tbody>\n",
       "    <tr>\n",
       "      <th>0</th>\n",
       "      <td>2024-05-01</td>\n",
       "      <td>NaT</td>\n",
       "      <td>2024-05-01</td>\n",
       "    </tr>\n",
       "    <tr>\n",
       "      <th>1</th>\n",
       "      <td>2024-05-31</td>\n",
       "      <td>30 days</td>\n",
       "      <td>2024-05-01</td>\n",
       "    </tr>\n",
       "    <tr>\n",
       "      <th>2</th>\n",
       "      <td>2024-06-30</td>\n",
       "      <td>30 days</td>\n",
       "      <td>2024-06-01</td>\n",
       "    </tr>\n",
       "    <tr>\n",
       "      <th>3</th>\n",
       "      <td>2024-07-30</td>\n",
       "      <td>30 days</td>\n",
       "      <td>2024-07-01</td>\n",
       "    </tr>\n",
       "  </tbody>\n",
       "</table>\n",
       "</div>"
      ],
      "text/plain": [
       "  sample date date difference first of month\n",
       "0  2024-05-01             NaT     2024-05-01\n",
       "1  2024-05-31         30 days     2024-05-01\n",
       "2  2024-06-30         30 days     2024-06-01\n",
       "3  2024-07-30         30 days     2024-07-01"
      ]
     },
     "execution_count": 67,
     "metadata": {},
     "output_type": "execute_result"
    }
   ],
   "source": [
    "# Calculate the difference between consecutive values \n",
    "# in the 'sample date' column and add it as a new column 'date difference'\n",
    "date_df['date difference'] = date_df['sample date'].diff(periods=1)\n",
    "\n",
    "# The resulting DataFrame 'date_df' will have an additional column named \n",
    "# 'date difference', which represents the difference between consecutive \n",
    "# dates in the 'sample date' column.\n",
    "\n",
    "# Display the updated DataFrame 'date_df'\n",
    "date_df"
   ]
  },
  {
   "cell_type": "markdown",
   "id": "65ae7b48-a6be-4798-8fbb-0a5cfab83200",
   "metadata": {},
   "source": [
    "## Find the first day of the month"
   ]
  },
  {
   "cell_type": "code",
   "execution_count": 68,
   "id": "cfe9188f-3ee6-4fd5-9952-78cc741b79b8",
   "metadata": {},
   "outputs": [
    {
     "data": {
      "text/html": [
       "<div>\n",
       "<style scoped>\n",
       "    .dataframe tbody tr th:only-of-type {\n",
       "        vertical-align: middle;\n",
       "    }\n",
       "\n",
       "    .dataframe tbody tr th {\n",
       "        vertical-align: top;\n",
       "    }\n",
       "\n",
       "    .dataframe thead th {\n",
       "        text-align: right;\n",
       "    }\n",
       "</style>\n",
       "<table border=\"1\" class=\"dataframe\">\n",
       "  <thead>\n",
       "    <tr style=\"text-align: right;\">\n",
       "      <th></th>\n",
       "      <th>sample date</th>\n",
       "      <th>date difference</th>\n",
       "      <th>first of month</th>\n",
       "    </tr>\n",
       "  </thead>\n",
       "  <tbody>\n",
       "    <tr>\n",
       "      <th>0</th>\n",
       "      <td>2024-05-01</td>\n",
       "      <td>NaT</td>\n",
       "      <td>2024-05-01</td>\n",
       "    </tr>\n",
       "    <tr>\n",
       "      <th>1</th>\n",
       "      <td>2024-05-31</td>\n",
       "      <td>30 days</td>\n",
       "      <td>2024-05-01</td>\n",
       "    </tr>\n",
       "    <tr>\n",
       "      <th>2</th>\n",
       "      <td>2024-06-30</td>\n",
       "      <td>30 days</td>\n",
       "      <td>2024-06-01</td>\n",
       "    </tr>\n",
       "    <tr>\n",
       "      <th>3</th>\n",
       "      <td>2024-07-30</td>\n",
       "      <td>30 days</td>\n",
       "      <td>2024-07-01</td>\n",
       "    </tr>\n",
       "  </tbody>\n",
       "</table>\n",
       "</div>"
      ],
      "text/plain": [
       "  sample date date difference first of month\n",
       "0  2024-05-01             NaT     2024-05-01\n",
       "1  2024-05-31         30 days     2024-05-01\n",
       "2  2024-06-30         30 days     2024-06-01\n",
       "3  2024-07-30         30 days     2024-07-01"
      ]
     },
     "execution_count": 68,
     "metadata": {},
     "output_type": "execute_result"
    }
   ],
   "source": [
    "# Create a new column 'first of month' containing the first day of \n",
    "# the month corresponding to each date in the 'sample date' column\n",
    "date_df['first of month'] = date_df['sample date'].values.astype('datetime64[M]')\n",
    "\n",
    "# This code will populate the 'first of month' column with the first day of the \n",
    "# month for each date in the 'sample date' column.\n",
    "\n",
    "# Display the updated DataFrame 'date_df'\n",
    "date_df"
   ]
  },
  {
   "cell_type": "markdown",
   "id": "d82012d2-35a2-4928-b645-e0cdb462d220",
   "metadata": {},
   "source": [
    "## Date types"
   ]
  },
  {
   "cell_type": "code",
   "execution_count": 69,
   "id": "51d3bec7-d777-4172-9b60-6e01eb8a7fb2",
   "metadata": {},
   "outputs": [
    {
     "data": {
      "text/plain": [
       "sample date         datetime64[ns]\n",
       "date difference    timedelta64[ns]\n",
       "first of month       datetime64[s]\n",
       "dtype: object"
      ]
     },
     "execution_count": 69,
     "metadata": {},
     "output_type": "execute_result"
    }
   ],
   "source": [
    "date_df.dtypes"
   ]
  },
  {
   "cell_type": "code",
   "execution_count": 70,
   "id": "f64596eb-bcfb-49ae-8666-cd9144e5d71d",
   "metadata": {},
   "outputs": [
    {
     "data": {
      "text/plain": [
       "sample date         datetime64[ns]\n",
       "date difference    timedelta64[ns]\n",
       "first of month       datetime64[s]\n",
       "dtype: object"
      ]
     },
     "execution_count": 70,
     "metadata": {},
     "output_type": "execute_result"
    }
   ],
   "source": [
    "# Convert the 'sample date' column to datetime format\n",
    "date_df['sample date'] = date_df['sample date'].astype('datetime64[ns]')\n",
    "\n",
    "# Display the data types of columns in the DataFrame 'date_df'\n",
    "date_df.dtypes"
   ]
  },
  {
   "cell_type": "markdown",
   "id": "dad5bdf2-2173-4b51-a0f6-72308e105886",
   "metadata": {},
   "source": [
    "## Date Subtraction"
   ]
  },
  {
   "cell_type": "code",
   "execution_count": 73,
   "id": "01f4dbca-6a11-4023-aa9c-b753afa0adf6",
   "metadata": {},
   "outputs": [
    {
     "data": {
      "text/plain": [
       "0    0 days\n",
       "1   30 days\n",
       "2   29 days\n",
       "3   29 days\n",
       "dtype: timedelta64[ns]"
      ]
     },
     "execution_count": 73,
     "metadata": {},
     "output_type": "execute_result"
    }
   ],
   "source": [
    "# Calculate the difference between each date in the 'sample date'\n",
    "# column and the corresponding first day of the month\n",
    "\n",
    "# The output will be a Series representing the difference in days between each date in the\n",
    "# 'sample date' column and the corresponding first day of the month in the 'first of month' column.\n",
    "date_df['sample date'] - date_df['first of month']"
   ]
  },
  {
   "cell_type": "code",
   "execution_count": 72,
   "id": "6fc2e5a4-96a2-4fda-a076-08d8e62a074e",
   "metadata": {},
   "outputs": [
    {
     "data": {
      "text/plain": [
       "0          NaT\n",
       "1   2024-05-01\n",
       "2   2024-05-31\n",
       "3   2024-06-30\n",
       "dtype: datetime64[ns]"
      ]
     },
     "execution_count": 72,
     "metadata": {},
     "output_type": "execute_result"
    }
   ],
   "source": [
    "# Calculate the difference between each date in the 'sample date' column \n",
    "# and the corresponding value in the 'date difference' column\n",
    "\n",
    "# The output will be a Series representing the result of subtracting the values in the \n",
    "# 'date difference' column from the corresponding values in the 'sample date' column.\n",
    "date_df['sample date'] - date_df['date difference']\n"
   ]
  },
  {
   "cell_type": "code",
   "execution_count": 75,
   "id": "cef04c8e-12a6-4b3c-854f-a576108a7347",
   "metadata": {},
   "outputs": [
    {
     "data": {
      "text/plain": [
       "0   2024-04-01\n",
       "1   2024-05-01\n",
       "2   2024-05-31\n",
       "3   2024-06-30\n",
       "Name: sample date, dtype: datetime64[ns]"
      ]
     },
     "execution_count": 75,
     "metadata": {},
     "output_type": "execute_result"
    }
   ],
   "source": [
    "# Subtract a timedelta of 30 days from each value in the 'sample date' column\n",
    "\n",
    "# The output will be a Series containing the result of subtracting \n",
    "# 30 days from each value in the 'sample date' column.\n",
    "date_df['sample date'] - pd.Timedelta('30 d')"
   ]
  },
  {
   "cell_type": "markdown",
   "id": "ddb32092-8151-4a0b-adeb-7c7cc7189b42",
   "metadata": {},
   "source": [
    "## More datetime properties with dt"
   ]
  },
  {
   "cell_type": "code",
   "execution_count": 77,
   "id": "ab8453ed-886d-4038-893b-698aeeb83d38",
   "metadata": {},
   "outputs": [
    {
     "data": {
      "text/plain": [
       "0    Wednesday\n",
       "1       Friday\n",
       "2       Sunday\n",
       "3      Tuesday\n",
       "Name: sample date, dtype: object"
      ]
     },
     "execution_count": 77,
     "metadata": {},
     "output_type": "execute_result"
    }
   ],
   "source": [
    "# Extract the name of the day of the week for each date in the 'sample date' column\n",
    "\n",
    "# The output will be a Series containing the name of the day of the week\n",
    "#  (e.g., 'Monday', 'Tuesday', etc.) for each date in the 'sample date' column.\n",
    "date_df['sample date'].dt.day_name()\n"
   ]
  },
  {
   "cell_type": "code",
   "execution_count": null,
   "id": "f04bae96-c7ea-406a-ab3f-5e76209631dd",
   "metadata": {},
   "outputs": [],
   "source": []
  }
 ],
 "metadata": {
  "kernelspec": {
   "display_name": "Python 3 (ipykernel)",
   "language": "python",
   "name": "python3"
  },
  "language_info": {
   "codemirror_mode": {
    "name": "ipython",
    "version": 3
   },
   "file_extension": ".py",
   "mimetype": "text/x-python",
   "name": "python",
   "nbconvert_exporter": "python",
   "pygments_lexer": "ipython3",
   "version": "3.12.1"
  }
 },
 "nbformat": 4,
 "nbformat_minor": 5
}

{
 "cells": [
  {
   "cell_type": "markdown",
   "id": "18286355-43cf-4bdc-b4f8-f07291da7ead",
   "metadata": {},
   "source": [
    "<div align=\"center\"><h1>Working with Strings</h1></div>"
   ]
  },
  {
   "cell_type": "code",
   "execution_count": 1,
   "id": "b38ef67d-24a5-473b-bbc9-1b2920d7f8e4",
   "metadata": {},
   "outputs": [],
   "source": [
    "# Import the pandas library and assign it the alias 'pd'\n",
    "import pandas as pd"
   ]
  },
  {
   "cell_type": "code",
   "execution_count": 2,
   "id": "2385dc29-9519-4543-aba5-fa72ce7692b4",
   "metadata": {},
   "outputs": [],
   "source": [
    "# Create a pandas Series 'names_df' containing strings representing names\n",
    "names_df = pd.Series(['Pomeray, CODY ', ' Wagner; Jarry', 'smith, Ray'])"
   ]
  },
  {
   "cell_type": "code",
   "execution_count": 3,
   "id": "017dde5c-ac36-4f1a-87d3-4c4934d92d85",
   "metadata": {},
   "outputs": [
    {
     "data": {
      "text/plain": [
       "0    Pomeray, CODY \n",
       "1     Wagner, Jarry\n",
       "2        smith, Ray\n",
       "dtype: object"
      ]
     },
     "execution_count": 3,
     "metadata": {},
     "output_type": "execute_result"
    }
   ],
   "source": [
    "# Replace all occurrences of ';' with ',' in each string of the 'names_df' Series\n",
    "names_df = names_df.str.replace(';', ',')\n",
    "\n",
    "# Display the modified Series 'names_df'\n",
    "names_df"
   ]
  },
  {
   "cell_type": "code",
   "execution_count": 4,
   "id": "19682b97-f47b-43e2-ac0f-f3d9d54b55cc",
   "metadata": {},
   "outputs": [
    {
     "data": {
      "text/plain": [
       "0    14\n",
       "1    14\n",
       "2    10\n",
       "dtype: int64"
      ]
     },
     "execution_count": 4,
     "metadata": {},
     "output_type": "execute_result"
    }
   ],
   "source": [
    "# Compute the length of each string in the 'names_df' Series\n",
    "names_df.str.len()"
   ]
  },
  {
   "cell_type": "code",
   "execution_count": 5,
   "id": "e2772bea-c63d-4131-bd28-c0cf37aa7002",
   "metadata": {},
   "outputs": [
    {
     "data": {
      "text/plain": [
       "0    13\n",
       "1    13\n",
       "2    10\n",
       "dtype: int64"
      ]
     },
     "execution_count": 5,
     "metadata": {},
     "output_type": "execute_result"
    }
   ],
   "source": [
    "# Remove leading and trailing whitespace from each string in the 'names_df' Series\n",
    "names_df = names_df.str.strip()\n",
    "\n",
    "# Compute the length of each string in the 'names_df' Series after stripping whitespace\n",
    "names_df.str.len()"
   ]
  },
  {
   "cell_type": "code",
   "execution_count": 6,
   "id": "2ec12054-ce5d-4965-a9d1-12566fc139f6",
   "metadata": {},
   "outputs": [
    {
     "data": {
      "text/plain": [
       "0    pomeray, cody\n",
       "1    wagner, jarry\n",
       "2       smith, ray\n",
       "dtype: object"
      ]
     },
     "execution_count": 6,
     "metadata": {},
     "output_type": "execute_result"
    }
   ],
   "source": [
    "# Convert all strings in the 'names_df' Series to lowercase\n",
    "names_df = names_df.str.lower()\n",
    "\n",
    "# Display the modified Series 'names_df'\n",
    "names_df"
   ]
  },
  {
   "cell_type": "code",
   "execution_count": 7,
   "id": "06510375-7729-48a6-9a86-c6425f320ea1",
   "metadata": {},
   "outputs": [
    {
     "data": {
      "text/plain": [
       "0    POMERAY, CODY\n",
       "1    WAGNER, JARRY\n",
       "2       SMITH, RAY\n",
       "dtype: object"
      ]
     },
     "execution_count": 7,
     "metadata": {},
     "output_type": "execute_result"
    }
   ],
   "source": [
    "# Convert all strings in the 'names_df' Series to uppercase\n",
    "names_df = names_df.str.upper()\n",
    "\n",
    "# Display the modified Series 'names_df'\n",
    "names_df"
   ]
  },
  {
   "cell_type": "code",
   "execution_count": 8,
   "id": "28d82491-7a30-4e54-8ed7-7db2c807d4a6",
   "metadata": {},
   "outputs": [
    {
     "data": {
      "text/plain": [
       "0    [POMERAY, CODY]\n",
       "1    [WAGNER, JARRY]\n",
       "2       [SMITH, RAY]\n",
       "dtype: object"
      ]
     },
     "execution_count": 8,
     "metadata": {},
     "output_type": "execute_result"
    }
   ],
   "source": [
    "# Split each string in the 'names_df' Series by the ', ' delimiter\n",
    "names_df = names_df.str.split(', ')\n",
    "\n",
    "# Display the modified Series 'names_df'\n",
    "names_df\n",
    "\n",
    "# The output will be a Series of lists, \n",
    "# where each list contains the parts of the original strings that were separated by ', "
   ]
  }
 ],
 "metadata": {
  "kernelspec": {
   "display_name": "Python 3 (ipykernel)",
   "language": "python",
   "name": "python3"
  },
  "language_info": {
   "codemirror_mode": {
    "name": "ipython",
    "version": 3
   },
   "file_extension": ".py",
   "mimetype": "text/x-python",
   "name": "python",
   "nbconvert_exporter": "python",
   "pygments_lexer": "ipython3",
   "version": "3.12.1"
  }
 },
 "nbformat": 4,
 "nbformat_minor": 5
}

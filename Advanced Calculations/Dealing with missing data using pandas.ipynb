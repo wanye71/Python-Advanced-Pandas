{
 "cells": [
  {
   "cell_type": "markdown",
   "id": "d613d61d-f0d3-4373-852a-39945cefe3b7",
   "metadata": {},
   "source": [
    "<center><h1>Working with missing datta</h1></center>"
   ]
  },
  {
   "cell_type": "code",
   "execution_count": 36,
   "id": "44684324-67ae-418c-87e0-ce368176ca81",
   "metadata": {},
   "outputs": [],
   "source": [
    "# Import the pandas library and assign it the alias 'pd'\n",
    "import pandas as pd\n",
    "\n",
    "import warnings\n",
    "# Suppress FutureWarning messages\n",
    "warnings.simplefilter(action='ignore', category=FutureWarning)"
   ]
  },
  {
   "cell_type": "code",
   "execution_count": 37,
   "id": "0a7629e7-754c-4f4a-9e38-218a762522a8",
   "metadata": {},
   "outputs": [
    {
     "data": {
      "text/html": [
       "<div>\n",
       "<style scoped>\n",
       "    .dataframe tbody tr th:only-of-type {\n",
       "        vertical-align: middle;\n",
       "    }\n",
       "\n",
       "    .dataframe tbody tr th {\n",
       "        vertical-align: top;\n",
       "    }\n",
       "\n",
       "    .dataframe thead th {\n",
       "        text-align: right;\n",
       "    }\n",
       "</style>\n",
       "<table border=\"1\" class=\"dataframe\">\n",
       "  <thead>\n",
       "    <tr style=\"text-align: right;\">\n",
       "      <th></th>\n",
       "      <th>sequence</th>\n",
       "      <th>measurement_type</th>\n",
       "      <th>temperature_f</th>\n",
       "    </tr>\n",
       "  </thead>\n",
       "  <tbody>\n",
       "    <tr>\n",
       "      <th>0</th>\n",
       "      <td>1</td>\n",
       "      <td>actual</td>\n",
       "      <td>67024.00</td>\n",
       "    </tr>\n",
       "    <tr>\n",
       "      <th>1</th>\n",
       "      <td>2</td>\n",
       "      <td>actual</td>\n",
       "      <td>84.56</td>\n",
       "    </tr>\n",
       "    <tr>\n",
       "      <th>2</th>\n",
       "      <td>3</td>\n",
       "      <td>actual</td>\n",
       "      <td>91.61</td>\n",
       "    </tr>\n",
       "    <tr>\n",
       "      <th>3</th>\n",
       "      <td>4</td>\n",
       "      <td>None</td>\n",
       "      <td>NaN</td>\n",
       "    </tr>\n",
       "    <tr>\n",
       "      <th>4</th>\n",
       "      <td>5</td>\n",
       "      <td>estimated</td>\n",
       "      <td>49.64</td>\n",
       "    </tr>\n",
       "  </tbody>\n",
       "</table>\n",
       "</div>"
      ],
      "text/plain": [
       "   sequence measurement_type  temperature_f\n",
       "0         1           actual       67024.00\n",
       "1         2           actual          84.56\n",
       "2         3           actual          91.61\n",
       "3         4             None            NaN\n",
       "4         5        estimated          49.64"
      ]
     },
     "execution_count": 37,
     "metadata": {},
     "output_type": "execute_result"
    }
   ],
   "source": [
    "# Create a pandas DataFrame 'temps_df' containing temperature measurements\n",
    "\n",
    "# The DataFrame consists of three columns:\n",
    "    # 'sequence': Sequence numbers for the measurements.\n",
    "    # 'measurement_type': Type of measurement ('actual' or 'estimated').\n",
    "    # 'temperature_f': Temperature values in Fahrenheit.\n",
    "temps_df = pd.DataFrame({\n",
    "    \"sequence\": [1, 2, 3, 4, 5],  # Sequence numbers\n",
    "    \"measurement_type\": ['actual', 'actual', 'actual', None, 'estimated'],  # Type of measurement\n",
    "    \"temperature_f\": [67024, 84.56, 91.61, None, 49.64]  # Temperature values in Fahrenheit\n",
    "})\n",
    "\n",
    "# Display the DataFrame 'temps_df'\n",
    "temps_df"
   ]
  },
  {
   "cell_type": "markdown",
   "id": "1b8b08f8-ea64-45df-ba34-82f5723a03f4",
   "metadata": {},
   "source": [
    "## Using isna() to identify null values in a dataframe"
   ]
  },
  {
   "cell_type": "code",
   "execution_count": 38,
   "id": "6efb227e-890c-4f6c-888d-e7c1482416ec",
   "metadata": {},
   "outputs": [
    {
     "data": {
      "text/html": [
       "<div>\n",
       "<style scoped>\n",
       "    .dataframe tbody tr th:only-of-type {\n",
       "        vertical-align: middle;\n",
       "    }\n",
       "\n",
       "    .dataframe tbody tr th {\n",
       "        vertical-align: top;\n",
       "    }\n",
       "\n",
       "    .dataframe thead th {\n",
       "        text-align: right;\n",
       "    }\n",
       "</style>\n",
       "<table border=\"1\" class=\"dataframe\">\n",
       "  <thead>\n",
       "    <tr style=\"text-align: right;\">\n",
       "      <th></th>\n",
       "      <th>sequence</th>\n",
       "      <th>measurement_type</th>\n",
       "      <th>temperature_f</th>\n",
       "    </tr>\n",
       "  </thead>\n",
       "  <tbody>\n",
       "    <tr>\n",
       "      <th>0</th>\n",
       "      <td>False</td>\n",
       "      <td>False</td>\n",
       "      <td>False</td>\n",
       "    </tr>\n",
       "    <tr>\n",
       "      <th>1</th>\n",
       "      <td>False</td>\n",
       "      <td>False</td>\n",
       "      <td>False</td>\n",
       "    </tr>\n",
       "    <tr>\n",
       "      <th>2</th>\n",
       "      <td>False</td>\n",
       "      <td>False</td>\n",
       "      <td>False</td>\n",
       "    </tr>\n",
       "    <tr>\n",
       "      <th>3</th>\n",
       "      <td>False</td>\n",
       "      <td>True</td>\n",
       "      <td>True</td>\n",
       "    </tr>\n",
       "    <tr>\n",
       "      <th>4</th>\n",
       "      <td>False</td>\n",
       "      <td>False</td>\n",
       "      <td>False</td>\n",
       "    </tr>\n",
       "  </tbody>\n",
       "</table>\n",
       "</div>"
      ],
      "text/plain": [
       "   sequence  measurement_type  temperature_f\n",
       "0     False             False          False\n",
       "1     False             False          False\n",
       "2     False             False          False\n",
       "3     False              True           True\n",
       "4     False             False          False"
      ]
     },
     "execution_count": 38,
     "metadata": {},
     "output_type": "execute_result"
    }
   ],
   "source": [
    "# Check for missing values (NaNs) in the DataFrame 'temps_df'\n",
    "\n",
    "# The output will be a DataFrame of the same shape as 'temps_df',\n",
    "# where each cell contains True if the corresponding value in 'temps_df' is NaN, \n",
    "# and False otherwise.\n",
    "temps_df.isna()"
   ]
  },
  {
   "cell_type": "markdown",
   "id": "abdd8fa3-025f-4e15-a1da-6a799df6aafa",
   "metadata": {},
   "source": [
    "## How is missing data handled?"
   ]
  },
  {
   "cell_type": "code",
   "execution_count": 39,
   "id": "57abfdde-fe9d-4ae1-bb54-b4f1b771a005",
   "metadata": {},
   "outputs": [
    {
     "data": {
      "text/plain": [
       "0    67024.00\n",
       "1    67108.56\n",
       "2    67200.17\n",
       "3         NaN\n",
       "4    67249.81\n",
       "Name: temperature_f, dtype: float64"
      ]
     },
     "execution_count": 39,
     "metadata": {},
     "output_type": "execute_result"
    }
   ],
   "source": [
    "# Calculate the cumulative sum of the 'temperature_f' \n",
    "# column in the DataFrame 'temps_df'\n",
    "\n",
    "# The output will be a Series containing the cumulative sum of the \n",
    "#'temperature_f' column. Each value represents the sum of all previous \n",
    "# temperature values along the column.\n",
    "temps_df['temperature_f'].cumsum()"
   ]
  },
  {
   "cell_type": "code",
   "execution_count": 40,
   "id": "97f19b32-0387-4084-ad2a-de5f29e44372",
   "metadata": {},
   "outputs": [
    {
     "data": {
      "text/plain": [
       "0    67024.00\n",
       "1    67108.56\n",
       "2    67200.17\n",
       "3         NaN\n",
       "4         NaN\n",
       "Name: temperature_f, dtype: float64"
      ]
     },
     "execution_count": 40,
     "metadata": {},
     "output_type": "execute_result"
    }
   ],
   "source": [
    "# Calculate the cumulative sum of the 'temperature_f' column \n",
    "# in the DataFrame 'temps_df', including NaN values\n",
    "\n",
    "# The output will be a Series containing the cumulative sum of the \n",
    "# 'temperature_f' column, where NaN values are treated as NaNs in the calculation.\n",
    "temps_df['temperature_f'].cumsum(skipna=False)"
   ]
  },
  {
   "cell_type": "code",
   "execution_count": 41,
   "id": "20b1a452-e7dc-4bd1-9056-0aae61009f29",
   "metadata": {},
   "outputs": [
    {
     "data": {
      "text/html": [
       "<div>\n",
       "<style scoped>\n",
       "    .dataframe tbody tr th:only-of-type {\n",
       "        vertical-align: middle;\n",
       "    }\n",
       "\n",
       "    .dataframe tbody tr th {\n",
       "        vertical-align: top;\n",
       "    }\n",
       "\n",
       "    .dataframe thead th {\n",
       "        text-align: right;\n",
       "    }\n",
       "</style>\n",
       "<table border=\"1\" class=\"dataframe\">\n",
       "  <thead>\n",
       "    <tr style=\"text-align: right;\">\n",
       "      <th></th>\n",
       "      <th>sequence</th>\n",
       "      <th>temperature_f</th>\n",
       "    </tr>\n",
       "    <tr>\n",
       "      <th>measurement_type</th>\n",
       "      <th></th>\n",
       "      <th></th>\n",
       "    </tr>\n",
       "  </thead>\n",
       "  <tbody>\n",
       "    <tr>\n",
       "      <th>actual</th>\n",
       "      <td>3</td>\n",
       "      <td>67024.00</td>\n",
       "    </tr>\n",
       "    <tr>\n",
       "      <th>estimated</th>\n",
       "      <td>5</td>\n",
       "      <td>49.64</td>\n",
       "    </tr>\n",
       "  </tbody>\n",
       "</table>\n",
       "</div>"
      ],
      "text/plain": [
       "                  sequence  temperature_f\n",
       "measurement_type                         \n",
       "actual                   3       67024.00\n",
       "estimated                5          49.64"
      ]
     },
     "execution_count": 41,
     "metadata": {},
     "output_type": "execute_result"
    }
   ],
   "source": [
    "# Group the DataFrame 'temps_df' by the 'measurement_type' \n",
    "# column and calculate the maximum value for each group\n",
    "\n",
    "# The output will be a DataFrame with 'measurement_type' as the index and the \n",
    "# maximum value of 'sequence' and 'temperature_f' columns for each group. Since \n",
    "# 'sequence' is a numerical column, the maximum value is the largest sequence \n",
    "# number in each group. For 'temperature_f', the maximum value will be the largest # temperature value in each group.\n",
    "temps_df.groupby(by=['measurement_type']).max()"
   ]
  },
  {
   "cell_type": "code",
   "execution_count": 42,
   "id": "71c95a32-512f-42da-ad86-0ffc4498a481",
   "metadata": {},
   "outputs": [
    {
     "data": {
      "text/html": [
       "<div>\n",
       "<style scoped>\n",
       "    .dataframe tbody tr th:only-of-type {\n",
       "        vertical-align: middle;\n",
       "    }\n",
       "\n",
       "    .dataframe tbody tr th {\n",
       "        vertical-align: top;\n",
       "    }\n",
       "\n",
       "    .dataframe thead th {\n",
       "        text-align: right;\n",
       "    }\n",
       "</style>\n",
       "<table border=\"1\" class=\"dataframe\">\n",
       "  <thead>\n",
       "    <tr style=\"text-align: right;\">\n",
       "      <th></th>\n",
       "      <th>sequence</th>\n",
       "      <th>temperature_f</th>\n",
       "    </tr>\n",
       "    <tr>\n",
       "      <th>measurement_type</th>\n",
       "      <th></th>\n",
       "      <th></th>\n",
       "    </tr>\n",
       "  </thead>\n",
       "  <tbody>\n",
       "    <tr>\n",
       "      <th>actual</th>\n",
       "      <td>3</td>\n",
       "      <td>67024.00</td>\n",
       "    </tr>\n",
       "    <tr>\n",
       "      <th>estimated</th>\n",
       "      <td>5</td>\n",
       "      <td>49.64</td>\n",
       "    </tr>\n",
       "    <tr>\n",
       "      <th>NaN</th>\n",
       "      <td>4</td>\n",
       "      <td>NaN</td>\n",
       "    </tr>\n",
       "  </tbody>\n",
       "</table>\n",
       "</div>"
      ],
      "text/plain": [
       "                  sequence  temperature_f\n",
       "measurement_type                         \n",
       "actual                   3       67024.00\n",
       "estimated                5          49.64\n",
       "NaN                      4            NaN"
      ]
     },
     "execution_count": 42,
     "metadata": {},
     "output_type": "execute_result"
    }
   ],
   "source": [
    "# Retain NA dimensions in grouping\n",
    "temps_df.groupby(by=['measurement_type'], dropna=False).max()"
   ]
  },
  {
   "cell_type": "markdown",
   "id": "ebeb0018-c4f8-4869-9ac5-eb8572ce9fb1",
   "metadata": {},
   "source": [
    "### Dealing with missing data: The blunt approach using dropna()"
   ]
  },
  {
   "cell_type": "code",
   "execution_count": 43,
   "id": "c0f41456-1dbb-45af-aab8-c00047d7e40d",
   "metadata": {},
   "outputs": [
    {
     "data": {
      "text/html": [
       "<div>\n",
       "<style scoped>\n",
       "    .dataframe tbody tr th:only-of-type {\n",
       "        vertical-align: middle;\n",
       "    }\n",
       "\n",
       "    .dataframe tbody tr th {\n",
       "        vertical-align: top;\n",
       "    }\n",
       "\n",
       "    .dataframe thead th {\n",
       "        text-align: right;\n",
       "    }\n",
       "</style>\n",
       "<table border=\"1\" class=\"dataframe\">\n",
       "  <thead>\n",
       "    <tr style=\"text-align: right;\">\n",
       "      <th></th>\n",
       "      <th>sequence</th>\n",
       "      <th>measurement_type</th>\n",
       "      <th>temperature_f</th>\n",
       "    </tr>\n",
       "  </thead>\n",
       "  <tbody>\n",
       "    <tr>\n",
       "      <th>0</th>\n",
       "      <td>1</td>\n",
       "      <td>actual</td>\n",
       "      <td>67024.00</td>\n",
       "    </tr>\n",
       "    <tr>\n",
       "      <th>1</th>\n",
       "      <td>2</td>\n",
       "      <td>actual</td>\n",
       "      <td>84.56</td>\n",
       "    </tr>\n",
       "    <tr>\n",
       "      <th>2</th>\n",
       "      <td>3</td>\n",
       "      <td>actual</td>\n",
       "      <td>91.61</td>\n",
       "    </tr>\n",
       "    <tr>\n",
       "      <th>4</th>\n",
       "      <td>5</td>\n",
       "      <td>estimated</td>\n",
       "      <td>49.64</td>\n",
       "    </tr>\n",
       "  </tbody>\n",
       "</table>\n",
       "</div>"
      ],
      "text/plain": [
       "   sequence measurement_type  temperature_f\n",
       "0         1           actual       67024.00\n",
       "1         2           actual          84.56\n",
       "2         3           actual          91.61\n",
       "4         5        estimated          49.64"
      ]
     },
     "execution_count": 43,
     "metadata": {},
     "output_type": "execute_result"
    }
   ],
   "source": [
    "# Remove rows with missing values (NaNs) from the DataFrame 'temps_df'\n",
    "# using axis=0 (default)\n",
    "temps_df.dropna()"
   ]
  },
  {
   "cell_type": "code",
   "execution_count": 44,
   "id": "63f62a42-417b-4bb0-bec9-af851b1f72c8",
   "metadata": {},
   "outputs": [
    {
     "data": {
      "text/html": [
       "<div>\n",
       "<style scoped>\n",
       "    .dataframe tbody tr th:only-of-type {\n",
       "        vertical-align: middle;\n",
       "    }\n",
       "\n",
       "    .dataframe tbody tr th {\n",
       "        vertical-align: top;\n",
       "    }\n",
       "\n",
       "    .dataframe thead th {\n",
       "        text-align: right;\n",
       "    }\n",
       "</style>\n",
       "<table border=\"1\" class=\"dataframe\">\n",
       "  <thead>\n",
       "    <tr style=\"text-align: right;\">\n",
       "      <th></th>\n",
       "      <th>sequence</th>\n",
       "    </tr>\n",
       "  </thead>\n",
       "  <tbody>\n",
       "    <tr>\n",
       "      <th>0</th>\n",
       "      <td>1</td>\n",
       "    </tr>\n",
       "    <tr>\n",
       "      <th>1</th>\n",
       "      <td>2</td>\n",
       "    </tr>\n",
       "    <tr>\n",
       "      <th>2</th>\n",
       "      <td>3</td>\n",
       "    </tr>\n",
       "    <tr>\n",
       "      <th>3</th>\n",
       "      <td>4</td>\n",
       "    </tr>\n",
       "    <tr>\n",
       "      <th>4</th>\n",
       "      <td>5</td>\n",
       "    </tr>\n",
       "  </tbody>\n",
       "</table>\n",
       "</div>"
      ],
      "text/plain": [
       "   sequence\n",
       "0         1\n",
       "1         2\n",
       "2         3\n",
       "3         4\n",
       "4         5"
      ]
     },
     "execution_count": 44,
     "metadata": {},
     "output_type": "execute_result"
    }
   ],
   "source": [
    "# Remove columns with missing values (NaNs) from the DataFrame 'temps_df'\n",
    "\n",
    "# The axis=1 parameter specifies that columns should be checked for missing \n",
    "# values and dropped if any are found.\n",
    "temps_df.dropna(axis=1)"
   ]
  },
  {
   "cell_type": "markdown",
   "id": "f3bce027-f100-42d3-b9ea-9d4d4878a720",
   "metadata": {},
   "source": [
    "### Replace null values using fillna()"
   ]
  },
  {
   "cell_type": "code",
   "execution_count": 45,
   "id": "8ba0a3fa-24cd-474b-82d5-e44b7a8febae",
   "metadata": {},
   "outputs": [
    {
     "data": {
      "text/html": [
       "<div>\n",
       "<style scoped>\n",
       "    .dataframe tbody tr th:only-of-type {\n",
       "        vertical-align: middle;\n",
       "    }\n",
       "\n",
       "    .dataframe tbody tr th {\n",
       "        vertical-align: top;\n",
       "    }\n",
       "\n",
       "    .dataframe thead th {\n",
       "        text-align: right;\n",
       "    }\n",
       "</style>\n",
       "<table border=\"1\" class=\"dataframe\">\n",
       "  <thead>\n",
       "    <tr style=\"text-align: right;\">\n",
       "      <th></th>\n",
       "      <th>sequence</th>\n",
       "      <th>measurement_type</th>\n",
       "      <th>temperature_f</th>\n",
       "    </tr>\n",
       "  </thead>\n",
       "  <tbody>\n",
       "    <tr>\n",
       "      <th>0</th>\n",
       "      <td>1</td>\n",
       "      <td>actual</td>\n",
       "      <td>67024.00</td>\n",
       "    </tr>\n",
       "    <tr>\n",
       "      <th>1</th>\n",
       "      <td>2</td>\n",
       "      <td>actual</td>\n",
       "      <td>84.56</td>\n",
       "    </tr>\n",
       "    <tr>\n",
       "      <th>2</th>\n",
       "      <td>3</td>\n",
       "      <td>actual</td>\n",
       "      <td>91.61</td>\n",
       "    </tr>\n",
       "    <tr>\n",
       "      <th>3</th>\n",
       "      <td>4</td>\n",
       "      <td>0</td>\n",
       "      <td>0.00</td>\n",
       "    </tr>\n",
       "    <tr>\n",
       "      <th>4</th>\n",
       "      <td>5</td>\n",
       "      <td>estimated</td>\n",
       "      <td>49.64</td>\n",
       "    </tr>\n",
       "  </tbody>\n",
       "</table>\n",
       "</div>"
      ],
      "text/plain": [
       "   sequence measurement_type  temperature_f\n",
       "0         1           actual       67024.00\n",
       "1         2           actual          84.56\n",
       "2         3           actual          91.61\n",
       "3         4                0           0.00\n",
       "4         5        estimated          49.64"
      ]
     },
     "execution_count": 45,
     "metadata": {},
     "output_type": "execute_result"
    }
   ],
   "source": [
    "# Replace missing values (NaNs) in the DataFrame 'temps_df' with zeros\n",
    "temps_df.fillna(0)"
   ]
  },
  {
   "cell_type": "code",
   "execution_count": 46,
   "id": "9ebf12be-aff5-434d-bf7a-337f7675a10d",
   "metadata": {},
   "outputs": [
    {
     "data": {
      "text/html": [
       "<div>\n",
       "<style scoped>\n",
       "    .dataframe tbody tr th:only-of-type {\n",
       "        vertical-align: middle;\n",
       "    }\n",
       "\n",
       "    .dataframe tbody tr th {\n",
       "        vertical-align: top;\n",
       "    }\n",
       "\n",
       "    .dataframe thead th {\n",
       "        text-align: right;\n",
       "    }\n",
       "</style>\n",
       "<table border=\"1\" class=\"dataframe\">\n",
       "  <thead>\n",
       "    <tr style=\"text-align: right;\">\n",
       "      <th></th>\n",
       "      <th>sequence</th>\n",
       "      <th>measurement_type</th>\n",
       "      <th>temperature_f</th>\n",
       "    </tr>\n",
       "  </thead>\n",
       "  <tbody>\n",
       "    <tr>\n",
       "      <th>0</th>\n",
       "      <td>1</td>\n",
       "      <td>actual</td>\n",
       "      <td>67024.00</td>\n",
       "    </tr>\n",
       "    <tr>\n",
       "      <th>1</th>\n",
       "      <td>2</td>\n",
       "      <td>actual</td>\n",
       "      <td>84.56</td>\n",
       "    </tr>\n",
       "    <tr>\n",
       "      <th>2</th>\n",
       "      <td>3</td>\n",
       "      <td>actual</td>\n",
       "      <td>91.61</td>\n",
       "    </tr>\n",
       "    <tr>\n",
       "      <th>3</th>\n",
       "      <td>4</td>\n",
       "      <td>actual</td>\n",
       "      <td>91.61</td>\n",
       "    </tr>\n",
       "    <tr>\n",
       "      <th>4</th>\n",
       "      <td>5</td>\n",
       "      <td>estimated</td>\n",
       "      <td>49.64</td>\n",
       "    </tr>\n",
       "  </tbody>\n",
       "</table>\n",
       "</div>"
      ],
      "text/plain": [
       "   sequence measurement_type  temperature_f\n",
       "0         1           actual       67024.00\n",
       "1         2           actual          84.56\n",
       "2         3           actual          91.61\n",
       "3         4           actual          91.61\n",
       "4         5        estimated          49.64"
      ]
     },
     "execution_count": 46,
     "metadata": {},
     "output_type": "execute_result"
    }
   ],
   "source": [
    "# Replace missing values (NaNs) in the DataFrame 'temps_df' \n",
    "# with the preceding non-null value along each column\n",
    "\n",
    "# The fillna(method='pad') method, also known as forward fill, fills missing values \n",
    "# in 'temps_df' with the value from the previous row along each column. If the \n",
    "# first row contains NaNs, they will remain unchanged.\n",
    "temps_df.fillna(method='pad')"
   ]
  },
  {
   "cell_type": "markdown",
   "id": "dff4c31c-c334-4af5-89f7-56483a505a68",
   "metadata": {},
   "source": [
    "### Interpolate"
   ]
  },
  {
   "cell_type": "code",
   "execution_count": 47,
   "id": "57ebca08-0662-4cb1-8297-3898a574a1bd",
   "metadata": {},
   "outputs": [
    {
     "data": {
      "text/html": [
       "<div>\n",
       "<style scoped>\n",
       "    .dataframe tbody tr th:only-of-type {\n",
       "        vertical-align: middle;\n",
       "    }\n",
       "\n",
       "    .dataframe tbody tr th {\n",
       "        vertical-align: top;\n",
       "    }\n",
       "\n",
       "    .dataframe thead th {\n",
       "        text-align: right;\n",
       "    }\n",
       "</style>\n",
       "<table border=\"1\" class=\"dataframe\">\n",
       "  <thead>\n",
       "    <tr style=\"text-align: right;\">\n",
       "      <th></th>\n",
       "      <th>sequence</th>\n",
       "      <th>measurement_type</th>\n",
       "      <th>temperature_f</th>\n",
       "    </tr>\n",
       "  </thead>\n",
       "  <tbody>\n",
       "    <tr>\n",
       "      <th>0</th>\n",
       "      <td>1</td>\n",
       "      <td>actual</td>\n",
       "      <td>67024.000</td>\n",
       "    </tr>\n",
       "    <tr>\n",
       "      <th>1</th>\n",
       "      <td>2</td>\n",
       "      <td>actual</td>\n",
       "      <td>84.560</td>\n",
       "    </tr>\n",
       "    <tr>\n",
       "      <th>2</th>\n",
       "      <td>3</td>\n",
       "      <td>actual</td>\n",
       "      <td>91.610</td>\n",
       "    </tr>\n",
       "    <tr>\n",
       "      <th>3</th>\n",
       "      <td>4</td>\n",
       "      <td>None</td>\n",
       "      <td>70.625</td>\n",
       "    </tr>\n",
       "    <tr>\n",
       "      <th>4</th>\n",
       "      <td>5</td>\n",
       "      <td>estimated</td>\n",
       "      <td>49.640</td>\n",
       "    </tr>\n",
       "  </tbody>\n",
       "</table>\n",
       "</div>"
      ],
      "text/plain": [
       "   sequence measurement_type  temperature_f\n",
       "0         1           actual      67024.000\n",
       "1         2           actual         84.560\n",
       "2         3           actual         91.610\n",
       "3         4             None         70.625\n",
       "4         5        estimated         49.640"
      ]
     },
     "execution_count": 47,
     "metadata": {},
     "output_type": "execute_result"
    }
   ],
   "source": [
    "temps_df.interpolate()"
   ]
  },
  {
   "cell_type": "code",
   "execution_count": 48,
   "id": "2024067c-ae90-442a-a7c7-59c27f34ecdd",
   "metadata": {},
   "outputs": [
    {
     "data": {
      "text/html": [
       "<div>\n",
       "<style scoped>\n",
       "    .dataframe tbody tr th:only-of-type {\n",
       "        vertical-align: middle;\n",
       "    }\n",
       "\n",
       "    .dataframe tbody tr th {\n",
       "        vertical-align: top;\n",
       "    }\n",
       "\n",
       "    .dataframe thead th {\n",
       "        text-align: right;\n",
       "    }\n",
       "</style>\n",
       "<table border=\"1\" class=\"dataframe\">\n",
       "  <thead>\n",
       "    <tr style=\"text-align: right;\">\n",
       "      <th></th>\n",
       "      <th>sequence</th>\n",
       "      <th>measurement_type</th>\n",
       "      <th>temperature_f</th>\n",
       "    </tr>\n",
       "  </thead>\n",
       "  <tbody>\n",
       "    <tr>\n",
       "      <th>0</th>\n",
       "      <td>1</td>\n",
       "      <td>actual</td>\n",
       "      <td>67024.000</td>\n",
       "    </tr>\n",
       "    <tr>\n",
       "      <th>1</th>\n",
       "      <td>2</td>\n",
       "      <td>actual</td>\n",
       "      <td>84.560</td>\n",
       "    </tr>\n",
       "    <tr>\n",
       "      <th>2</th>\n",
       "      <td>3</td>\n",
       "      <td>actual</td>\n",
       "      <td>91.610</td>\n",
       "    </tr>\n",
       "    <tr>\n",
       "      <th>3</th>\n",
       "      <td>4</td>\n",
       "      <td>None</td>\n",
       "      <td>70.625</td>\n",
       "    </tr>\n",
       "    <tr>\n",
       "      <th>4</th>\n",
       "      <td>5</td>\n",
       "      <td>estimated</td>\n",
       "      <td>49.640</td>\n",
       "    </tr>\n",
       "  </tbody>\n",
       "</table>\n",
       "</div>"
      ],
      "text/plain": [
       "   sequence measurement_type  temperature_f\n",
       "0         1           actual      67024.000\n",
       "1         2           actual         84.560\n",
       "2         3           actual         91.610\n",
       "3         4             None         70.625\n",
       "4         5        estimated         49.640"
      ]
     },
     "execution_count": 48,
     "metadata": {},
     "output_type": "execute_result"
    }
   ],
   "source": [
    "# Perform linear interpolation to fill in missing values \n",
    "# (NaNs) in the DataFrame 'temps_df'\n",
    "\n",
    "# The interpolate() method fills missing values in 'temps_df' by linear\n",
    "# interpolation along each column. It computes intermediate values based on the \n",
    "# neighboring data points, providing a smooth transition between them.\n",
    "temps_df.interpolate()"
   ]
  }
 ],
 "metadata": {
  "kernelspec": {
   "display_name": "Python 3 (ipykernel)",
   "language": "python",
   "name": "python3"
  },
  "language_info": {
   "codemirror_mode": {
    "name": "ipython",
    "version": 3
   },
   "file_extension": ".py",
   "mimetype": "text/x-python",
   "name": "python",
   "nbconvert_exporter": "python",
   "pygments_lexer": "ipython3",
   "version": "3.12.1"
  }
 },
 "nbformat": 4,
 "nbformat_minor": 5
}
